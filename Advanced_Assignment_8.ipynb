{
 "cells": [
  {
   "cell_type": "markdown",
   "id": "eec58466",
   "metadata": {},
   "source": [
    "# Q1. What are the two latest user-defined exception constraints in Python 3.X?"
   ]
  },
  {
   "cell_type": "markdown",
   "id": "af2ffaa3",
   "metadata": {},
   "source": [
    "Ans. raise and assert are the two latest user-defined exception constraints in Python 3.X"
   ]
  },
  {
   "cell_type": "markdown",
   "id": "11e95c2d",
   "metadata": {},
   "source": [
    "# Q2. How are class-based exceptions that have been raised matched to handlers?"
   ]
  },
  {
   "cell_type": "markdown",
   "id": "9fac8c37",
   "metadata": {},
   "source": [
    "Ans. Users can define their own exceptions in Python by creating a new class. This exception class must be directly or indirectly derived from the built-in Exception class. This new exception class, similar to other exception classes, can be thrown with the raise statement and an optional error message."
   ]
  },
  {
   "cell_type": "code",
   "execution_count": 1,
   "id": "74e44170",
   "metadata": {},
   "outputs": [
    {
     "ename": "ToYoungException",
     "evalue": "To Young For Voting",
     "output_type": "error",
     "traceback": [
      "\u001b[1;31m---------------------------------------------------------------------------\u001b[0m",
      "\u001b[1;31mToYoungException\u001b[0m                          Traceback (most recent call last)",
      "Input \u001b[1;32mIn [1]\u001b[0m, in \u001b[0;36m<cell line: 5>\u001b[1;34m()\u001b[0m\n\u001b[0;32m      3\u001b[0m         \u001b[38;5;28mself\u001b[39m\u001b[38;5;241m.\u001b[39mmsg \u001b[38;5;241m=\u001b[39m msg\n\u001b[0;32m      4\u001b[0m age \u001b[38;5;241m=\u001b[39m \u001b[38;5;241m12\u001b[39m\n\u001b[1;32m----> 5\u001b[0m \u001b[38;5;28;01mif\u001b[39;00m age \u001b[38;5;241m<\u001b[39m\u001b[38;5;241m=\u001b[39m \u001b[38;5;241m18\u001b[39m: \u001b[38;5;28;01mraise\u001b[39;00m ToYoungException(\u001b[38;5;124m'\u001b[39m\u001b[38;5;124mTo Young For Voting\u001b[39m\u001b[38;5;124m'\u001b[39m)\n",
      "\u001b[1;31mToYoungException\u001b[0m: To Young For Voting"
     ]
    }
   ],
   "source": [
    "class ToYoungException(Exception):\n",
    "    def __init__(self,msg):\n",
    "        self.msg = msg\n",
    "age = 12\n",
    "if age <= 18: raise ToYoungException('To Young For Voting')"
   ]
  },
  {
   "cell_type": "markdown",
   "id": "00027ee3",
   "metadata": {},
   "source": [
    "# Q3. Describe two methods for attaching context information to exception artefacts."
   ]
  },
  {
   "cell_type": "markdown",
   "id": "57da6633",
   "metadata": {},
   "source": [
    "Ans. LoggerAdapter's process() method is where contextual information is added to the logging output. It receives the message and keyword arguments of the logging call and returns modified versions of these for use in the underlying logger's call.\n",
    "\n",
    "Other available method is exception(), which logs a message with level ERROR to this logger. The arguments are treated as debugging (). Exception details are appended to the logging message."
   ]
  },
  {
   "cell_type": "markdown",
   "id": "679f766d",
   "metadata": {},
   "source": [
    "# Q4. Describe two methods for specifying the text of an exception object's error message."
   ]
  },
  {
   "cell_type": "markdown",
   "id": "7ca1f386",
   "metadata": {},
   "source": [
    "Ans. raise and assert are two methods for defining the error message of an exception object. The raise statement is used to generate an explicit exception if a certain condition does not meet the programmer's specifications. It aids in triggering exceptions according to programmer and logic requirements.\n",
    "\n",
    "There are only a few assertions that programmers must ensure are always True to prevent code failure. The assert statement fulfils this sort of requirement. This statement accepts a Boolean Condition output that, if True, executes additional code. If the output of the assert statement is False, an Assertion Error is generated."
   ]
  },
  {
   "cell_type": "markdown",
   "id": "446563c7",
   "metadata": {},
   "source": [
    "# Q5. Why do you no longer use string-based exceptions?"
   ]
  },
  {
   "cell_type": "markdown",
   "id": "748b7dd4",
   "metadata": {},
   "source": [
    "Ans.  String-based Exceptions doesn't inherit from Exceptions. so plain exceptions catch all exceptions and not only system."
   ]
  }
 ],
 "metadata": {
  "kernelspec": {
   "display_name": "Python 3 (ipykernel)",
   "language": "python",
   "name": "python3"
  },
  "language_info": {
   "codemirror_mode": {
    "name": "ipython",
    "version": 3
   },
   "file_extension": ".py",
   "mimetype": "text/x-python",
   "name": "python",
   "nbconvert_exporter": "python",
   "pygments_lexer": "ipython3",
   "version": "3.9.12"
  }
 },
 "nbformat": 4,
 "nbformat_minor": 5
}
