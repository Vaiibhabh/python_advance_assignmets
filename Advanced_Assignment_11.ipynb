{
 "cells": [
  {
   "cell_type": "markdown",
   "id": "4b6310af",
   "metadata": {},
   "source": [
    "# Q1. What is the concept of a metaclass?"
   ]
  },
  {
   "cell_type": "markdown",
   "id": "fc24215f",
   "metadata": {},
   "source": [
    "Ans. Metaclass in Python is a class that defines the behaviour of a class. A class is an instance of Metaclass, and every Class instance in Python is an instance of the metaclass type. Metaclass types include int, str, float, list, and tuple, among others."
   ]
  },
  {
   "cell_type": "markdown",
   "id": "e6115e6c",
   "metadata": {},
   "source": [
    "# Q2. What is the best way to declare a class's metaclass?"
   ]
  },
  {
   "cell_type": "markdown",
   "id": "880f6e80",
   "metadata": {},
   "source": [
    "Ans.  A way to declare a class’ metaclass is by using metaclass keyword in class definition."
   ]
  },
  {
   "cell_type": "code",
   "execution_count": 1,
   "id": "cea46ca2",
   "metadata": {},
   "outputs": [
    {
     "name": "stdout",
     "output_type": "stream",
     "text": [
      "<class 'type'>\n",
      "<class '__main__.meta'>\n"
     ]
    }
   ],
   "source": [
    "class meta(type):\n",
    "    pass\n",
    "class class_meta(metaclass=meta):\n",
    "    pass\n",
    "print(type(meta))\n",
    "print(type(class_meta))"
   ]
  },
  {
   "cell_type": "markdown",
   "id": "837653c4",
   "metadata": {},
   "source": [
    "# Q3. How do class decorators overlap with metaclasses for handling classes?"
   ]
  },
  {
   "cell_type": "markdown",
   "id": "abf498ef",
   "metadata": {},
   "source": [
    "Ans. Everything you can do with a class decorator, you can also do with custom metaclasses (just apply the functionality of the \"decorator function,\" i.e., the one that takes a class object and modifies it, during the metaclass's __new or __init methods that create the class object!)."
   ]
  },
  {
   "cell_type": "markdown",
   "id": "f25b0173",
   "metadata": {},
   "source": [
    "# Q4. How do class decorators overlap with metaclasses for handling instances?"
   ]
  },
  {
   "cell_type": "markdown",
   "id": "76c7d977",
   "metadata": {},
   "source": [
    "Ans. Everything you can do with a class decorator, you can also do with custom metaclasses (just apply the functionality of the \"decorator function,\" i.e., the one that takes a class object and modifies it, during the metaclass's __new or __init methods that create the class object!)."
   ]
  },
  {
   "cell_type": "code",
   "execution_count": null,
   "id": "4cbeef96",
   "metadata": {},
   "outputs": [],
   "source": []
  }
 ],
 "metadata": {
  "kernelspec": {
   "display_name": "Python 3 (ipykernel)",
   "language": "python",
   "name": "python3"
  },
  "language_info": {
   "codemirror_mode": {
    "name": "ipython",
    "version": 3
   },
   "file_extension": ".py",
   "mimetype": "text/x-python",
   "name": "python",
   "nbconvert_exporter": "python",
   "pygments_lexer": "ipython3",
   "version": "3.9.12"
  }
 },
 "nbformat": 4,
 "nbformat_minor": 5
}
