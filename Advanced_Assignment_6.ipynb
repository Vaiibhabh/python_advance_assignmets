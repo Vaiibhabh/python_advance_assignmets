{
 "cells": [
  {
   "cell_type": "markdown",
   "id": "5ee43d78",
   "metadata": {},
   "source": [
    "# Q1. Describe three applications for exception processing."
   ]
  },
  {
   "cell_type": "markdown",
   "id": "8d988703",
   "metadata": {},
   "source": [
    "Ans. Exception Processing is crucial for locating exceptions that result in runtime errors. As runtime errors, stop programme execution when exceptions are encountered.\n",
    "\n",
    "Exception Processing is utilised in numerous applications, including the following:\n",
    "\n",
    "\n",
    "--Checking an application's input for appropriateness\n",
    "--Checking mathematical executions for arithmetic exceptions\n",
    "--Examining File I/O exceptions during File manipulation."
   ]
  },
  {
   "cell_type": "markdown",
   "id": "ca27bac2",
   "metadata": {},
   "source": [
    "# Q2. What happens if you don't do something extra to treat an exception?"
   ]
  },
  {
   "cell_type": "markdown",
   "id": "d6149d7e",
   "metadata": {},
   "source": [
    "Ans. If Exceptions are not handled, the program's execution flow will be interrupted, which may result in an abnormal programme termination. Shortly, the inability of a programme to handle exceptions will cause the programme to crash."
   ]
  },
  {
   "cell_type": "markdown",
   "id": "eb7c4cd6",
   "metadata": {},
   "source": [
    "# Q3. What are your options for recovering from an exception in your script?"
   ]
  },
  {
   "cell_type": "markdown",
   "id": "54d13ce6",
   "metadata": {},
   "source": [
    "Ans. Python provides try and except statements for recovering from an exception in your script."
   ]
  },
  {
   "cell_type": "markdown",
   "id": "2950698e",
   "metadata": {},
   "source": [
    "# Q4. Describe two methods for triggering exceptions in your script."
   ]
  },
  {
   "cell_type": "markdown",
   "id": "f7b1e8c9",
   "metadata": {},
   "source": [
    "Ans.raise and assert are two methods that can be used to trigger manual exceptions in your script.\n",
    "\n",
    "--raise method triggers an exception if condition provided to it turns out to be True.\n",
    "--assert will let the program to continue execution if condition provided to it turns out to be True else exception will be raised"
   ]
  },
  {
   "cell_type": "code",
   "execution_count": 2,
   "id": "f75b648a",
   "metadata": {
    "scrolled": true
   },
   "outputs": [
    {
     "ename": "Exception",
     "evalue": "y Value Should not exceed 25 The Provided Value of y is 20",
     "output_type": "error",
     "traceback": [
      "\u001b[1;31m---------------------------------------------------------------------------\u001b[0m",
      "\u001b[1;31mException\u001b[0m                                 Traceback (most recent call last)",
      "Input \u001b[1;32mIn [2]\u001b[0m, in \u001b[0;36m<cell line: 3>\u001b[1;34m()\u001b[0m\n\u001b[0;32m      1\u001b[0m \u001b[38;5;66;03m# Example of raise\u001b[39;00m\n\u001b[0;32m      2\u001b[0m y \u001b[38;5;241m=\u001b[39m \u001b[38;5;241m20\u001b[39m\n\u001b[1;32m----> 3\u001b[0m \u001b[38;5;28;01mraise\u001b[39;00m \u001b[38;5;167;01mException\u001b[39;00m(\u001b[38;5;124mf\u001b[39m\u001b[38;5;124m'\u001b[39m\u001b[38;5;124my Value Should not exceed 25 The Provided Value of y is \u001b[39m\u001b[38;5;132;01m{\u001b[39;00my\u001b[38;5;132;01m}\u001b[39;00m\u001b[38;5;124m'\u001b[39m)\n",
      "\u001b[1;31mException\u001b[0m: y Value Should not exceed 25 The Provided Value of y is 20"
     ]
    }
   ],
   "source": [
    "# Example of raise\n",
    "y = 20\n",
    "raise Exception(f'y Value Should not exceed 5 The Provided Value of y is {y}')"
   ]
  },
  {
   "cell_type": "code",
   "execution_count": 5,
   "id": "5a7564d2",
   "metadata": {},
   "outputs": [
    {
     "ename": "AssertionError",
     "evalue": "6 is not equal to 8",
     "output_type": "error",
     "traceback": [
      "\u001b[1;31m---------------------------------------------------------------------------\u001b[0m",
      "\u001b[1;31mAssertionError\u001b[0m                            Traceback (most recent call last)",
      "Input \u001b[1;32mIn [5]\u001b[0m, in \u001b[0;36m<cell line: 2>\u001b[1;34m()\u001b[0m\n\u001b[0;32m      1\u001b[0m \u001b[38;5;66;03m# Example of assert\u001b[39;00m\n\u001b[1;32m----> 2\u001b[0m \u001b[38;5;28;01massert\u001b[39;00m(\u001b[38;5;241m6\u001b[39m\u001b[38;5;241m==\u001b[39m\u001b[38;5;241m8\u001b[39m), \u001b[38;5;124m\"\u001b[39m\u001b[38;5;124m6 is not equal to 8\u001b[39m\u001b[38;5;124m\"\u001b[39m\n",
      "\u001b[1;31mAssertionError\u001b[0m: 6 is not equal to 8"
     ]
    }
   ],
   "source": [
    "# Example of assert\n",
    "assert(6==8), \"6 is not equal to 8\""
   ]
  },
  {
   "cell_type": "markdown",
   "id": "dc8f7343",
   "metadata": {},
   "source": [
    "# Q5. Identify two methods for specifying actions to be executed at termination time, regardless of whether or not an exception exists."
   ]
  },
  {
   "cell_type": "markdown",
   "id": "48d6c763",
   "metadata": {},
   "source": [
    "Ans. Python Provides else and finally blocks for specifying actions to be executed at termination time, regardless of whether an exceptions exists or not."
   ]
  }
 ],
 "metadata": {
  "kernelspec": {
   "display_name": "Python 3 (ipykernel)",
   "language": "python",
   "name": "python3"
  },
  "language_info": {
   "codemirror_mode": {
    "name": "ipython",
    "version": 3
   },
   "file_extension": ".py",
   "mimetype": "text/x-python",
   "name": "python",
   "nbconvert_exporter": "python",
   "pygments_lexer": "ipython3",
   "version": "3.9.12"
  }
 },
 "nbformat": 4,
 "nbformat_minor": 5
}
