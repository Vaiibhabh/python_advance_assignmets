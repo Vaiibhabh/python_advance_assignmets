{
 "cells": [
  {
   "cell_type": "markdown",
   "id": "3fcb33b1",
   "metadata": {},
   "source": [
    "# 1. What is the concept of an abstract superclass?"
   ]
  },
  {
   "cell_type": "markdown",
   "id": "9642e697",
   "metadata": {},
   "source": [
    "Ans. A superclass or abstract class can be viewed as a blueprint for other classes. It permits the creation of a set of methods that must be implemented by any child classes derived from the abstract class. A class with one or more abstract methods is referred to as an abstract class.\n",
    "\n",
    "In contrast, an abstract method is a method with a declaration but no implementation."
   ]
  },
  {
   "cell_type": "code",
   "execution_count": null,
   "id": "d394ef46",
   "metadata": {},
   "outputs": [],
   "source": [
    "from abc import ABC, abstractmethod\n",
    "class Polygon(ABC): # Abstract Class\n",
    "    @abstractmethod\n",
    "    def noofsides(self): # Abstract Method\n",
    "        pass\n",
    "class Triangle(Polygon):\n",
    "    def noofsides(self):  # overriding abstract method in child class Triangle\n",
    "        print(\"I have 3 sides\")\n",
    "class Pentagon(Polygon):\n",
    "    def noofsides(self): # overriding abstract method in child class Pentagon\n",
    "        print(\"I have 5 sides\")"
   ]
  },
  {
   "cell_type": "markdown",
   "id": "6fd75aad",
   "metadata": {},
   "source": [
    "# 2. What happens when a class statement's top level contains a basic assignment statement?"
   ]
  },
  {
   "cell_type": "markdown",
   "id": "03f52bfe",
   "metadata": {},
   "source": [
    "Ans. When the top level of a Class statement contains an assignment statement, it is typically regarded as a class attribute or class level variable.\n",
    "\n",
    "where as assignment statements within methods are treated as instance or local attributes.\n",
    "\n",
    "\n",
    "When an instance of a class is created, a single copy of the class's attributes is kept and shared among all instances of the class. each instance object keeps its own copy of instance variables.Ans. "
   ]
  },
  {
   "cell_type": "code",
   "execution_count": null,
   "id": "37b71981",
   "metadata": {},
   "outputs": [],
   "source": [
    "class Person:\n",
    "    species = 'Homesapiens' # class attribute\n",
    "      def __init__(self, name, age):\n",
    "        self.name = name    # instance attributes\n",
    "        self.age = age\n",
    "\n",
    "p1 = Person(\"John\", 36)"
   ]
  },
  {
   "cell_type": "markdown",
   "id": "6727b163",
   "metadata": {},
   "source": [
    "# 3. Why does a class need to manually call a superclass's __init__ method?"
   ]
  },
  {
   "cell_type": "markdown",
   "id": "50d272db",
   "metadata": {},
   "source": [
    "Ans. If a child class already has  _ _init_ _ method, it will not inherit the _ _init_ _ method from its parent. In other words, the _ _init_ _ method of the child class supersedes that of the parent. therefore, we must manually invoke a parent superclass's _ _init_ _ method using the super() method."
   ]
  },
  {
   "cell_type": "code",
   "execution_count": 4,
   "id": "6c4c532b",
   "metadata": {},
   "outputs": [
    {
     "name": "stdout",
     "output_type": "stream",
     "text": [
      "{'name': 'Vaibhav', 'age': 32, 'salary': 200000}\n"
     ]
    }
   ],
   "source": [
    "class Person:\n",
    "    def __init__(self,name,age): ## first parent class constructor\n",
    "        self.name = name\n",
    "        self.age = age       \n",
    "class Employee(Person):\n",
    "    def __init__(self,name,age,salary): ## child class constructor which will overide \n",
    "        super().__init__(name,age)##manually callin of parent class constructor\n",
    "        self.salary = salary\n",
    "emp_1 = Employee('Vaibhav',32,200000)\n",
    "print(emp_1.__dict__)"
   ]
  },
  {
   "cell_type": "code",
   "execution_count": 2,
   "id": "a60f618a",
   "metadata": {},
   "outputs": [
    {
     "data": {
      "text/plain": [
       "28"
      ]
     },
     "execution_count": 2,
     "metadata": {},
     "output_type": "execute_result"
    }
   ],
   "source": [
    "emp_1.age"
   ]
  },
  {
   "cell_type": "markdown",
   "id": "42eed519",
   "metadata": {},
   "source": [
    "# 4. How can you augment, instead of completely replacing, an inherited method?"
   ]
  },
  {
   "cell_type": "markdown",
   "id": "ebc4ab42",
   "metadata": {},
   "source": [
    "Ans.super() method can be used to augment, instead of completely replacing, an inherited method."
   ]
  },
  {
   "cell_type": "code",
   "execution_count": 5,
   "id": "9a00fa70",
   "metadata": {},
   "outputs": [
    {
     "name": "stdout",
     "output_type": "stream",
     "text": [
      "{'name': 'Vaibhav', 'gender': 'Male', 'salary': 100000}\n"
     ]
    }
   ],
   "source": [
    "class Person:\n",
    "    def __init__(self,name,gender):\n",
    "        self.name = name\n",
    "        self.gender = gender\n",
    "class Employee(Person):\n",
    "    def __init__(self,name,gender,salary):\n",
    "        super().__init__(name,gender) \n",
    "        self.salary = salary\n",
    "emp_1 = Employee('Vaibhav','Male',100000)\n",
    "print(emp_1.__dict__) "
   ]
  },
  {
   "cell_type": "markdown",
   "id": "8ff0ea19",
   "metadata": {},
   "source": [
    "# 5. How is the local scope of a class different from that of a function?"
   ]
  },
  {
   "cell_type": "markdown",
   "id": "377a07cc",
   "metadata": {},
   "source": [
    "Ans. Variables defined within a function are considered local to that function. It is accessible from the point of definition until the end of the function and exists for as long as the function does.\n",
    "\n",
    "Similarly, a class variable also has a local variable scope. Class level variables or class attributes refer to variables that are defined within the class body (but outside of all methods). They can be accessed from outside the same scope by using the attribute access operator (.) on a class or an instance of the class."
   ]
  },
  {
   "cell_type": "code",
   "execution_count": 6,
   "id": "21e1e171",
   "metadata": {},
   "outputs": [
    {
     "name": "stdout",
     "output_type": "stream",
     "text": [
      "you're name is Mano Vishnu\n",
      "Name varible is not available outside hello function scope\n",
      "HomeSapines\n",
      "HomeSapines\n"
     ]
    }
   ],
   "source": [
    "def hello(name):\n",
    "    name = name\n",
    "    print(f'you\\'re name is {name}')\n",
    "hello('Mano Vishnu')\n",
    "try:\n",
    "    name\n",
    "except NameError:\n",
    "    print('Name varible is not available outside hello function scope')\n",
    "\n",
    "class Person:\n",
    "    species = \"HomeSapines\"\n",
    "    def __init__(self):\n",
    "        pass\n",
    "print(Person.species) # Accessing species using class name\n",
    "Male = Person()\n",
    "print(Male.species) # Accessing species using instance of class"
   ]
  },
  {
   "cell_type": "code",
   "execution_count": null,
   "id": "25ac47a4",
   "metadata": {},
   "outputs": [],
   "source": []
  }
 ],
 "metadata": {
  "kernelspec": {
   "display_name": "Python 3 (ipykernel)",
   "language": "python",
   "name": "python3"
  },
  "language_info": {
   "codemirror_mode": {
    "name": "ipython",
    "version": 3
   },
   "file_extension": ".py",
   "mimetype": "text/x-python",
   "name": "python",
   "nbconvert_exporter": "python",
   "pygments_lexer": "ipython3",
   "version": "3.9.12"
  }
 },
 "nbformat": 4,
 "nbformat_minor": 5
}
