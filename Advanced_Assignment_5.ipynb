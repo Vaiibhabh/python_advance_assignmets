{
 "cells": [
  {
   "cell_type": "markdown",
   "id": "d99d720f",
   "metadata": {},
   "source": [
    "# Q1. What is the meaning of multiple inheritance?"
   ]
  },
  {
   "cell_type": "markdown",
   "id": "505191db",
   "metadata": {},
   "source": [
    "Ans. Inheritance is nothing more than the child class reusing the code of the parent class. Likewise, when a child class inherits properties from multiple Parent classes, this is referred to as Multiple Inheritance."
   ]
  },
  {
   "cell_type": "code",
   "execution_count": null,
   "id": "975fad7d",
   "metadata": {},
   "outputs": [],
   "source": [
    "class Parent_one:\n",
    "    pass\n",
    "class Parent_two:\n",
    "    pass\n",
    "class child(Parent_one,Parent_two):\n",
    "    pass"
   ]
  },
  {
   "cell_type": "markdown",
   "id": "e08eb89a",
   "metadata": {},
   "source": [
    "# Q2. What is the concept of delegation?"
   ]
  },
  {
   "cell_type": "markdown",
   "id": "656d37fc",
   "metadata": {},
   "source": [
    "Ans. Delegation provides a proxy object for any subclass you specify. It's similar to a wrapper for your class, allowing you to access the restricted resources of the main class.\n",
    "\n",
    "It encapsulates the object of the main class within a smaller object with restricted access.\n",
    "\n",
    "Simply Delegation allows you to include an instance of another class as an instance variable and send messages to that instance."
   ]
  },
  {
   "cell_type": "code",
   "execution_count": 9,
   "id": "12c4c3ad",
   "metadata": {},
   "outputs": [
    {
     "name": "stdout",
     "output_type": "stream",
     "text": [
      "Hey iam back\n",
      "Hey iam back\n",
      "Hey iam back\n",
      "Iam the main class\n"
     ]
    }
   ],
   "source": [
    "class Myclass:\n",
    "    def sayHi(self):\n",
    "        print('Hey iam back')\n",
    "    def whoAmI(self):\n",
    "        print('Iam the main class')\n",
    "class NewClass:\n",
    "    def __init__(self,obj):\n",
    "        self.obj = obj\n",
    "    def welcome(self):\n",
    "        self.obj.sayHi()\n",
    "\n",
    "m = Myclass()        \n",
    "n = NewClass(m)\n",
    "m.sayHi()\n",
    "\n",
    "n.obj.sayHi()\n",
    "n.welcome()\n",
    "n.obj.whoAmI()"
   ]
  },
  {
   "cell_type": "markdown",
   "id": "0b69618c",
   "metadata": {},
   "source": [
    "# Q3. What is the concept of composition?"
   ]
  },
  {
   "cell_type": "markdown",
   "id": "08b36af7",
   "metadata": {},
   "source": [
    "Ans. Using instances of other classes as instance variables, a class refers to one or more other classes using the Composition concept. In this approach, regardless of inheritance, all parent class members are not inherited into the child class; instead, only the required methods from a class are utilised by using class instances."
   ]
  },
  {
   "cell_type": "code",
   "execution_count": 11,
   "id": "7d45f046",
   "metadata": {},
   "outputs": [
    {
     "name": "stdout",
     "output_type": "stream",
     "text": [
      "Total Salary : 10800\n"
     ]
    }
   ],
   "source": [
    "class Salary:\n",
    "    def __init__(self,pay):\n",
    "        self.pay = pay\n",
    "    def get_total(self):\n",
    "        return self.pay*12\n",
    "    \n",
    "class Employee:\n",
    "    def __init__(self,pay,bonus):\n",
    "        self.pay = pay\n",
    "        self.bonus = bonus\n",
    "        self.obj_salary = Salary(self.pay)\n",
    "    def annual_salary(self):\n",
    "        return f'Total Salary : {str(self.obj_salary.get_total())}'\n",
    "\n",
    "obj_emp = Employee(900,300)\n",
    "print(obj_emp.annual_salary())"
   ]
  },
  {
   "cell_type": "markdown",
   "id": "b8885778",
   "metadata": {},
   "source": [
    "# Q4. What are bound methods and how do we use them?"
   ]
  },
  {
   "cell_type": "markdown",
   "id": "ff7214f0",
   "metadata": {},
   "source": [
    "Ans.When a function is an attribute of a class and it is accessed through instances, it is referred to as a bound method. A bound method is one whose first argument is self. These are also known as instance methods because they depend on the instance of a class."
   ]
  },
  {
   "cell_type": "code",
   "execution_count": 12,
   "id": "8271ea66",
   "metadata": {},
   "outputs": [
    {
     "name": "stdout",
     "output_type": "stream",
     "text": [
      "this is  method_one\n",
      "this is method_two\n",
      "this is method_two\n",
      "this is method_three\n"
     ]
    }
   ],
   "source": [
    "class Test:\n",
    "    def method_one(self): # bound method\n",
    "        print(\"this is  method_one\")\n",
    "    @classmethod\n",
    "    def method_two(cls): # unbound method\n",
    "        print(\"this is method_two\")\n",
    "    @staticmethod\n",
    "    def method_three(): # static method\n",
    "        print(\"this is method_three\")\n",
    "\n",
    "test = Test()\n",
    "test.method_one() # accessing through instance object\n",
    "test.method_two() # accessing through instance object\n",
    "Test.method_two() # accessing directly through class\n",
    "Test.method_three() # accessing directly through class"
   ]
  },
  {
   "cell_type": "markdown",
   "id": "2a2dc016",
   "metadata": {},
   "source": [
    "# Q5. What is the purpose of pseudoprivate attributes?"
   ]
  },
  {
   "cell_type": "markdown",
   "id": "8cfe0700",
   "metadata": {},
   "source": [
    "Ans. Pseudoprivate attributes are also useful in larger frameworks or tools, both to avoid introducing new method names that might inadvertently hide definitions elsewhere in the class tree and to reduce the likelihood of internal methods being replaced by names defined lower in the class tree. If a method is intended for use only within a class that may be mixed into other classes, the double underscore prefix ensures that the method's name will not conflict with other names in the tree, particularly in multiple-inheritance situations.\n",
    "\n",
    "Additionally, pseudoprivate names prevent subclasses from inadvertently redefinition internal method names."
   ]
  },
  {
   "cell_type": "code",
   "execution_count": 13,
   "id": "4265c18e",
   "metadata": {},
   "outputs": [],
   "source": [
    "class Super:\n",
    "    def method(self): # A real application method\n",
    "        pass\n",
    "class Tool:\n",
    "    def _method(self): # becomes _Tool_method\n",
    "        pass\n",
    "    def other(self): # uses internal method\n",
    "        self._method()\n",
    "class Subl(Tool,Super):\n",
    "    def actions(self):\n",
    "        self.method()\n",
    "class Sub2(Tool):\n",
    "    def __init__(self):\n",
    "        self.method = 99"
   ]
  },
  {
   "cell_type": "code",
   "execution_count": null,
   "id": "a1b39711",
   "metadata": {},
   "outputs": [],
   "source": []
  }
 ],
 "metadata": {
  "kernelspec": {
   "display_name": "Python 3 (ipykernel)",
   "language": "python",
   "name": "python3"
  },
  "language_info": {
   "codemirror_mode": {
    "name": "ipython",
    "version": 3
   },
   "file_extension": ".py",
   "mimetype": "text/x-python",
   "name": "python",
   "nbconvert_exporter": "python",
   "pygments_lexer": "ipython3",
   "version": "3.9.12"
  }
 },
 "nbformat": 4,
 "nbformat_minor": 5
}
