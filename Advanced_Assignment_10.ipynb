{
 "cells": [
  {
   "cell_type": "markdown",
   "id": "d90e3564",
   "metadata": {},
   "source": [
    "# Q1. What is the difference between __getattr__ and __getattribute__?"
   ]
  },
  {
   "cell_type": "markdown",
   "id": "2d746e06",
   "metadata": {},
   "source": [
    "Ans. __getattribute__ is used to locate a class attribute. It raises an AttributeError if a class attribute cannot be located. __getattr__ is implemented if __getattribute__ generates an AttributeError; however, both __getattribute__ and __getattr__ must be defined in the same class. __getattr__ returns a default value if no attribute is present. The primary distinction is that __getattr__ is invoked for attributes that do not exist on a class."
   ]
  },
  {
   "cell_type": "markdown",
   "id": "a4b1db56",
   "metadata": {},
   "source": [
    "# Q2. What is the difference between properties and descriptors?"
   ]
  },
  {
   "cell_type": "markdown",
   "id": "7737df62",
   "metadata": {},
   "source": [
    "Ans. The distinction between Properties and Descriptors is as follows:\n",
    "\n",
    "Properties: Using the built-in property function or @property decorator, we can bind getter, setter, and delete functions to an attribute name using Properties. Each reference to an attribute appears to be a simple, direct access, but actually invokes the object's appropriate method.\n",
    "\n",
    "Descriptor enables the binding of getter, setter, and delete functions to a distinct class. Then, we assign an instance of this class to the name attribute of our main class. When we do this, each reference to an attribute appears to be a simple, direct access, but actually invokes the appropriate descriptor object function."
   ]
  },
  {
   "cell_type": "markdown",
   "id": "d862de19",
   "metadata": {},
   "source": [
    "# Q3. What are the key differences in functionality between __getattr__ and __getattribute__, as well as properties and descriptors?"
   ]
  },
  {
   "cell_type": "markdown",
   "id": "21c12767",
   "metadata": {},
   "source": [
    "Ans. The primary distinctions between __getattr__, __getattribute__, Properties, and Descriptors are as follows:\n",
    "\n",
    "Python will invoke __getattr__ whenever you request an attribute that has not yet been defined.\n",
    "\n",
    "__getattribute__: This method is called prior to examining the object's actual attributes. If our class contains the __getattribute__ method, Python calls it for every attribute, regardless of whether it exists or not.\n",
    "\n",
    "Properties: Using the built-in property function or @property decorator, we can bind getter, setter, and delete functions to an attribute name using Properties. Each reference to an attribute appears to be a simple, direct access, but actually invokes the object's appropriate method.\n",
    "\n",
    "Descriptor enables the binding of getter, setter, and delete functions to a distinct class. Then, we assign an instance of this class to the name attribute of our main class. When we do this, each reference to an attribute appears to be a simple, direct access, but actually invokes the appropriate descriptor object function."
   ]
  },
  {
   "cell_type": "code",
   "execution_count": null,
   "id": "9e6b5337",
   "metadata": {},
   "outputs": [],
   "source": []
  }
 ],
 "metadata": {
  "kernelspec": {
   "display_name": "Python 3 (ipykernel)",
   "language": "python",
   "name": "python3"
  },
  "language_info": {
   "codemirror_mode": {
    "name": "ipython",
    "version": 3
   },
   "file_extension": ".py",
   "mimetype": "text/x-python",
   "name": "python",
   "nbconvert_exporter": "python",
   "pygments_lexer": "ipython3",
   "version": "3.9.12"
  }
 },
 "nbformat": 4,
 "nbformat_minor": 5
}
