{
 "cells": [
  {
   "cell_type": "markdown",
   "id": "f0cfe111",
   "metadata": {},
   "source": [
    "# Q1. What is the purpose of the try statement?"
   ]
  },
  {
   "cell_type": "markdown",
   "id": "47b2b784",
   "metadata": {},
   "source": [
    "Ans. Python's try statement is used to handle exceptions. It is a block of risky statements that may result in an exception at runtime. If code within the try block throws an exception, the exception is redirected to the corresponding except block if multiple except blocks are present; otherwise, the exception is redirected to the default except block. Short try and except in union prevent programmes from crashing due to exceptions during runtime."
   ]
  },
  {
   "cell_type": "code",
   "execution_count": 1,
   "id": "f1cf3cc1",
   "metadata": {},
   "outputs": [
    {
     "name": "stdout",
     "output_type": "stream",
     "text": [
      "Division by Zero is Not Possible\n"
     ]
    }
   ],
   "source": [
    "try:\n",
    "    print(20/0)\n",
    "except ZeroDivisionError:\n",
    "    print('Division by Zero is Not Possible')"
   ]
  },
  {
   "cell_type": "markdown",
   "id": "fe750f26",
   "metadata": {},
   "source": [
    "# Q2. What are the two most popular try statement variations?"
   ]
  },
  {
   "cell_type": "markdown",
   "id": "94afc21a",
   "metadata": {},
   "source": [
    "Ans. Popular try statement variants include:\n",
    "\n",
    "--try,except \n",
    "--try,except,finally \n",
    "--try,except,finally,else\n",
    "\n",
    "The try block is used to check code at runtime for exceptions. If there is no error in the programme, all of the code within the try block will execute. In contrast, the code within the except block will be executed whenever the preceding try block encounters an error.\n",
    "\n",
    "In contrast, the code only enters the else block if the try clause does not throw an exception. The finally block will execute regardless of any exception."
   ]
  },
  {
   "cell_type": "markdown",
   "id": "f9ed0082",
   "metadata": {},
   "source": [
    "# Q3. What is the purpose of the raise statement?"
   ]
  },
  {
   "cell_type": "markdown",
   "id": "1ac878d4",
   "metadata": {},
   "source": [
    "Ans. The raise statement is used to explicitly trigger an exception if a certain condition does not meet the programmer's requirements. raise statement enables programming logic to generate exceptions."
   ]
  },
  {
   "cell_type": "markdown",
   "id": "4b6b4a7e",
   "metadata": {},
   "source": [
    "# Q4. What does the assert statement do, and what other statement is it like?"
   ]
  },
  {
   "cell_type": "markdown",
   "id": "fda2d619",
   "metadata": {},
   "source": [
    "Ans. There are only a few assertions that must always be true to prevent code failure. The assert statement fulfils this type of requirement. This statement evaluates a boolean condition and, if it returns True, executes additional code. If the output of the assert statement is False, an Assertion Error is generated."
   ]
  },
  {
   "cell_type": "code",
   "execution_count": 2,
   "id": "82623083",
   "metadata": {},
   "outputs": [
    {
     "ename": "AssertionError",
     "evalue": "this is not a valid statement",
     "output_type": "error",
     "traceback": [
      "\u001b[1;31m---------------------------------------------------------------------------\u001b[0m",
      "\u001b[1;31mAssertionError\u001b[0m                            Traceback (most recent call last)",
      "Input \u001b[1;32mIn [2]\u001b[0m, in \u001b[0;36m<cell line: 1>\u001b[1;34m()\u001b[0m\n\u001b[1;32m----> 1\u001b[0m \u001b[38;5;28;01massert\u001b[39;00m(\u001b[38;5;241m2\u001b[39m \u001b[38;5;241m==\u001b[39m \u001b[38;5;241m4\u001b[39m), \u001b[38;5;124mf\u001b[39m\u001b[38;5;124m'\u001b[39m\u001b[38;5;124mthis is not a valid statement\u001b[39m\u001b[38;5;124m'\u001b[39m\n",
      "\u001b[1;31mAssertionError\u001b[0m: this is not a valid statement"
     ]
    }
   ],
   "source": [
    "assert(2 == 4), f'this is not a valid statement'"
   ]
  },
  {
   "cell_type": "markdown",
   "id": "ccf0e7bb",
   "metadata": {},
   "source": [
    "# Q5. What is the purpose of the with/as argument, and what other statement is it like?"
   ]
  },
  {
   "cell_type": "markdown",
   "id": "ebc474a4",
   "metadata": {},
   "source": [
    "Ans. Python's with/as statement simplifies file management. When using a with statement for file reading, the programmer is not required to explicitly handle activities such as resource deallocation and file closing using the file.close() method. with statement ensures proper resource acquisition and release. This prevents exceptions from being thrown if the closing of a file is forgotten during code execution."
   ]
  },
  {
   "cell_type": "code",
   "execution_count": null,
   "id": "b7e7caef",
   "metadata": {},
   "outputs": [],
   "source": [
    "with open('sample_file.txt','w') as file: file.write('Hello World')"
   ]
  }
 ],
 "metadata": {
  "kernelspec": {
   "display_name": "Python 3 (ipykernel)",
   "language": "python",
   "name": "python3"
  },
  "language_info": {
   "codemirror_mode": {
    "name": "ipython",
    "version": 3
   },
   "file_extension": ".py",
   "mimetype": "text/x-python",
   "name": "python",
   "nbconvert_exporter": "python",
   "pygments_lexer": "ipython3",
   "version": "3.9.12"
  }
 },
 "nbformat": 4,
 "nbformat_minor": 5
}
