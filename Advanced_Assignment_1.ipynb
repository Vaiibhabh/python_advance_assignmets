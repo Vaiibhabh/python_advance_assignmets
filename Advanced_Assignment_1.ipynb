{
 "cells": [
  {
   "cell_type": "markdown",
   "id": "62d6bd17",
   "metadata": {},
   "source": [
    "# Q1. What is the purpose of Python's OOP?"
   ]
  },
  {
   "cell_type": "markdown",
   "id": "6344e9a2",
   "metadata": {},
   "source": [
    "Ans: The programming paradigm known as \"object-oriented programming\" offers a way to organise programmes so that individual objects include properties and behaviours.\n",
    "\n",
    "--Object-oriented programming (OOPs) in Python makes use of classes and objects.\n",
    "\n",
    "--It seeks to incorporate in programming real-world concepts like inheritance, polymorphism, encapsulation, etc.\n",
    "\n",
    "--the fundamental idea behind OOPs is to unite the data and the functions that use it such that no other portion of the code may access it.\n",
    "\n",
    "It offers the following benefits:\n",
    "\n",
    "--It facilitates the division of our overall software into numerous little portions, making object-based problem solving much simpler.\n",
    "\n",
    "--facilitates easy programme maintenance and modification\n",
    "\n",
    "--An object may be created in more than one instance."
   ]
  },
  {
   "cell_type": "markdown",
   "id": "d07f5316",
   "metadata": {},
   "source": [
    "# Q2. Where does an inheritance search look for an attribute?"
   ]
  },
  {
   "cell_type": "markdown",
   "id": "017f94d1",
   "metadata": {},
   "source": [
    "Ans. Python looks for an attribute in a tree of ascending attributes. It looks for the attribute first in its instance, then in the class it is derived from and all superclasses indicated in its class header."
   ]
  },
  {
   "cell_type": "markdown",
   "id": "bd074a67",
   "metadata": {},
   "source": [
    "# Q3. How do you distinguish between a class object and an instance object?"
   ]
  },
  {
   "cell_type": "markdown",
   "id": "851327df",
   "metadata": {},
   "source": [
    "Ans.The distinctions between class objects and instance objects are as follows:\n",
    "\n",
    "---Class is a template for constructing objects, whereas an instance of a class is an object.\n",
    "\n",
    "--When an object is formed, memory is allocated for each object individually. this does not occur for a class.\n",
    "\n",
    "--Once, a Class is generated. With a class, numerous objects are produced.\n",
    "\n",
    "--Classes do not have allocated memory. They cannot be influenced. Yet, objects are manipulable. "
   ]
  },
  {
   "cell_type": "markdown",
   "id": "c39bf491",
   "metadata": {},
   "source": [
    "# Q4. What makes the first argument in a class’s method function special?"
   ]
  },
  {
   "cell_type": "markdown",
   "id": "e63ef9a1",
   "metadata": {},
   "source": [
    "Ans.Python Classes typically contain three sorts of methods:\n",
    "\n",
    "--Example Methods (object level methods)\n",
    "\n",
    "--Class Procedures (class level methods)\n",
    "\n",
    "--Static Procedures (general utility methods)\n",
    "\n",
    "--'Self' is the first argument passed to instance methods. it relates to the actual object\n",
    "\n",
    "--'cls' refers to the class itself and is the initial argument for class methods."
   ]
  },
  {
   "cell_type": "markdown",
   "id": "0787f02f",
   "metadata": {},
   "source": [
    "# Q5. What is the purpose of the __init__ method?"
   ]
  },
  {
   "cell_type": "markdown",
   "id": "7f62b88e",
   "metadata": {},
   "source": [
    "Ans. __init__ is a reserved Python class method. It functions as a function Object() { [native code] } according to object-oriented terminology. This method is invoked when an instance of a class is created, and it allows the class to initialise its attributes."
   ]
  },
  {
   "cell_type": "markdown",
   "id": "c916a791",
   "metadata": {},
   "source": [
    "# Q6. What is the process for creating a class instance?"
   ]
  },
  {
   "cell_type": "markdown",
   "id": "24d23c9d",
   "metadata": {},
   "source": [
    "Ans.To create a class instance, we need to call the class by its name and pass the arguments to the class, which its init method accepts."
   ]
  },
  {
   "cell_type": "markdown",
   "id": "68c6644f",
   "metadata": {},
   "source": [
    "Example: courses = list_of_courses(\"Data science\",\"Big data\") Here courses is an instance of class list_of_courses with attributes \"Data science\" and \"Big data\"."
   ]
  },
  {
   "cell_type": "markdown",
   "id": "93176911",
   "metadata": {},
   "source": [
    "# Q7. What is the process for creating a class?"
   ]
  },
  {
   "cell_type": "markdown",
   "id": "8567423e",
   "metadata": {},
   "source": [
    "Ans. class keyword is used to created a class in python. The syntax to create a class in python is class <classname>:\n",
    "\n",
    "Example: class Car(): ➞ this creates a class called Car"
   ]
  },
  {
   "cell_type": "markdown",
   "id": "d3a159e3",
   "metadata": {},
   "source": [
    "# Q8. How would you define the superclasses of a class?"
   ]
  },
  {
   "cell_type": "markdown",
   "id": "09625105",
   "metadata": {},
   "source": [
    "Ans.The class from which a class inherits is called the parent or superclass. A class which inherits from a superclass is called a subclass, also called heir class or child class.\n",
    "\n",
    "Example: class Employee(Person): Here child class Employee inherits attributes and methofs from Superclass/Parent Person"
   ]
  },
  {
   "cell_type": "code",
   "execution_count": null,
   "id": "a06e3933",
   "metadata": {},
   "outputs": [],
   "source": []
  }
 ],
 "metadata": {
  "kernelspec": {
   "display_name": "Python 3 (ipykernel)",
   "language": "python",
   "name": "python3"
  },
  "language_info": {
   "codemirror_mode": {
    "name": "ipython",
    "version": 3
   },
   "file_extension": ".py",
   "mimetype": "text/x-python",
   "name": "python",
   "nbconvert_exporter": "python",
   "pygments_lexer": "ipython3",
   "version": "3.9.12"
  }
 },
 "nbformat": 4,
 "nbformat_minor": 5
}
