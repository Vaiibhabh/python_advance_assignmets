{
 "cells": [
  {
   "cell_type": "markdown",
   "id": "da054b66",
   "metadata": {},
   "source": [
    "# Q1. What is the benefit of regular expressions?"
   ]
  },
  {
   "cell_type": "markdown",
   "id": "5e1429af",
   "metadata": {},
   "source": [
    "Ans. Regular Expressions, also known as regex or regexp, are utilised to match text strings containing specific characters, words, or character patterns. With the aid of regular expressions, we can match and extract any string pattern from the text. It allows programmers to write less code that is cleaner. Additionally, it avoids multiple if/else statements."
   ]
  },
  {
   "cell_type": "markdown",
   "id": "e272ff19",
   "metadata": {},
   "source": [
    "# Q2. Describe the difference between the effects of \"(ab)c+\" and \"a(bc)+.\" Which of these, if any, is the unqualified pattern \"abc+\"?"
   ]
  },
  {
   "cell_type": "markdown",
   "id": "082df2be",
   "metadata": {},
   "source": [
    "Ans. The patterns (ab)c+ and a(bc+) are both valid. The distinction between these two patterns is that in (ab)c+ ab is a group, whereas in a(bc)+ bc is a group."
   ]
  },
  {
   "cell_type": "markdown",
   "id": "e0c64d19",
   "metadata": {},
   "source": [
    "# Q3. How much do you need to use the following sentence while using regular expressions? import re"
   ]
  },
  {
   "cell_type": "markdown",
   "id": "f12da6d9",
   "metadata": {},
   "source": [
    "Ans. import re statement always has to be imported before using regular expressions."
   ]
  },
  {
   "cell_type": "markdown",
   "id": "4abf33f9",
   "metadata": {},
   "source": [
    "# Q4. Which characters have special significance in square brackets when expressing a range, and under what circumstances?"
   ]
  },
  {
   "cell_type": "markdown",
   "id": "c3b458cc",
   "metadata": {},
   "source": [
    "Ans. When surrounded by square brackets, the characters.,*,?,,or,() have a special meaning. They are not required to be explicitly escaped by like pattern texts in a raw string."
   ]
  },
  {
   "cell_type": "markdown",
   "id": "2a015c7f",
   "metadata": {},
   "source": [
    "# Q5. How does compiling a regular-expression object benefit you?"
   ]
  },
  {
   "cell_type": "markdown",
   "id": "6aba21e7",
   "metadata": {},
   "source": [
    "Ans. A regular expression pattern can be combined into pattern Objects. Which is suitable for pattern matching. It is also advantageous to search a pattern without rewriting it."
   ]
  },
  {
   "cell_type": "markdown",
   "id": "8d8ee65d",
   "metadata": {},
   "source": [
    "# Q6. What are some examples of how to use the match object returned by re.match and re.search?"
   ]
  },
  {
   "cell_type": "markdown",
   "id": "0e18287a",
   "metadata": {},
   "source": [
    "Ans. Both re.search() and re.match() are functions of the Python re module. These string-searching functions are exceptionally efficient and quick. If the function locates a substring within a string, it returns a match object; otherwise, it returns nothing.\n",
    "\n",
    "There is a distinction between the two functions. Both return the first match of a substring found in the string, but re.match() only searches from the beginning of the string and returns match object if a match is found. However, if a substring match is found in the middle of the string, it returns nothing.\n",
    "\n",
    "While re.search() searches for the entire string, even if the string contains multiple lines, and attempts to find a match of the substring in all the lines of string,substring() searches only for the substring."
   ]
  },
  {
   "cell_type": "code",
   "execution_count": 2,
   "id": "6004631b",
   "metadata": {},
   "outputs": [
    {
     "name": "stdout",
     "output_type": "stream",
     "text": [
      "<re.Match object; span=(66, 72), match='string'>\n",
      "None\n",
      "<re.Match object; span=(0, 6), match='string'>\n",
      "<re.Match object; span=(0, 6), match='string'>\n"
     ]
    }
   ],
   "source": [
    "import re\n",
    "Substring ='string' \n",
    "String1 ='We are learning regex with geeksforgeeks regex is very useful for string matching. It is fast too.' \n",
    "String2 ='string We are learning regex with geeksforgeeks regex is very useful for string matching. It is fast too.'\n",
    "print(re.search(Substring, String1, re.IGNORECASE))\n",
    "print(re.match(Substring, String1, re.IGNORECASE))\n",
    "print(re.search(Substring, String2, re.IGNORECASE))\n",
    "print(re.match(Substring, String2, re.IGNORECASE))"
   ]
  },
  {
   "cell_type": "markdown",
   "id": "5fd40794",
   "metadata": {},
   "source": [
    "# Q7. What is the difference between using a vertical bar (|) as an alteration and using square brackets as a character set?"
   ]
  },
  {
   "cell_type": "markdown",
   "id": "20d87a4c",
   "metadata": {},
   "source": [
    "Ans. When | us is used as a pattern, or is searched for. Thus, < pattern _ 1>|< pattern _ 2> indicates a string search for either  < pattern _ 1> or < pattern _ 2>. As the Match Object, the first occurrence of the matched string will be returned. Character set in square format Brackets searches for all the characters in the square bracket and returns them if a match is found."
   ]
  },
  {
   "cell_type": "markdown",
   "id": "164b04b5",
   "metadata": {},
   "source": [
    "# Q8. In regular-expression search patterns, why is it necessary to use the raw-string indicator (r)? In   replacement strings?"
   ]
  },
  {
   "cell_type": "markdown",
   "id": "29ddf7c3",
   "metadata": {},
   "source": [
    " Ans. Raw Strings are used in the regular-expression search patterns, so that blackslashes donot have to be escaped."
   ]
  },
  {
   "cell_type": "code",
   "execution_count": null,
   "id": "b1fc79d3",
   "metadata": {},
   "outputs": [],
   "source": []
  }
 ],
 "metadata": {
  "kernelspec": {
   "display_name": "Python 3 (ipykernel)",
   "language": "python",
   "name": "python3"
  },
  "language_info": {
   "codemirror_mode": {
    "name": "ipython",
    "version": 3
   },
   "file_extension": ".py",
   "mimetype": "text/x-python",
   "name": "python",
   "nbconvert_exporter": "python",
   "pygments_lexer": "ipython3",
   "version": "3.9.12"
  }
 },
 "nbformat": 4,
 "nbformat_minor": 5
}
