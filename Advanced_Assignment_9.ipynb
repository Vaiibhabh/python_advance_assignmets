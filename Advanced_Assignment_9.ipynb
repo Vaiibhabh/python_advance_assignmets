{
 "cells": [
  {
   "cell_type": "markdown",
   "id": "296a5738",
   "metadata": {},
   "source": [
    "# Q1. In Python 3.X, what are the names and functions of string object types?"
   ]
  },
  {
   "cell_type": "code",
   "execution_count": null,
   "id": "b64e9587",
   "metadata": {},
   "outputs": [],
   "source": [
    "Ans.The following are some examles of the names and functions of string object types in Python 3.X\n",
    "\n",
    "-  <stirng>.isdecimal() -> Returns True if all characters in a string are decimal.\n",
    "    \n",
    "-  <string>.isalnum() -> Returns True if all characters in the string are AlphaNumeric.\n",
    "    \n",
    "-  <string>.istitle() -> Returns True if first character in a string is in Uppercase.\n",
    "    \n",
    "-  <string>.partition(<sub_string>) -> Splits string at first occurance of sub string and returns a tuple of 3 elements.\n",
    "    \n",
    "-  <string>.rpartition(<sub_string>) -> Splits string at last occurance of sub string and returns a tuple of 3 elements.\n",
    "    \n",
    "-  <string>.isidentifier() -> Returns True if give string is a valid identifier name.\n",
    "    \n",
    "-  len(<string>) -> Returns the length of the given string.\n",
    "    \n",
    "\n",
    "-  max(<string>) -> Returns the highest Alphabetical Character in the string as per ASCII.\n",
    "    \n",
    "-  min(<string>) -> Returns the lowest Alphabetical Character in the string as per ASCII.\n",
    "    \n",
    "-  <string>.splitlines() -> Returns a list of lines in the string.\n",
    "    \n",
    "-  <string>.capitalize() -> Returns the string with first character capitalized.\n",
    "    \n",
    "-  <string>.upper() -> Returns the string with all characters in uppercase.\n",
    "    \n",
    "-  <string>.lower() -> Returns the string with all characters in lowercase\n",
    "\n",
    "-  <string>.count(<char>) -> Returns the no of occurances of the char in the given string.\n",
    "    \n",
    "-  <string>.split(<sep>) -> Returns list of words seperated by given sep else seperated by whitespace.\n",
    "    \n",
    "-  <string>.rsplit(<sep>) -> Returns list of words seperated by given sep else seperated by whitespace scanning from end.\n",
    "    \n",
    "-  <string>.lstrip() -> Returns a copy of where leading whitespaces are removed.\n",
    "    \n",
    "-  <string>.rstrip() -> Returns a copy of where trailed whitespaces are removed.\n",
    "    \n",
    "    \n",
    "-  <string>.strip() -> Returns a copy of where both leading and trailing whitespaces are removed.\n",
    "    \n",
    "-  <string>.swapcase() -> Swaps lowercase characters with uppercase and vice versa.\n",
    "    \n",
    "-  <sep>.join(<list>) -> Concatenates a list or tuple of words with intervening occuernces of sep.\n",
    "    \n",
    "\n",
    "-  <string>.replace(<char_1>,<char_2>) -> Replace all occurances of char_1 with char_2 in string.\n",
    "    \n",
    "-  <string>.encode() -> Encodes string into any encoding supported by python. Default encoding is UTF-8.\n",
    "    \n",
    "-  <string>.ljust(<no_of_spaces>) -> Left-justify in a field of given width.\n",
    "    \n",
    "-  <string>.rjust(<no_of_spaces>) -> Right-justify in a field of given width.\n",
    "    \n",
    "-  <string>.center(<no_of_spaces>) -> Center-justify in a field of given width.\n",
    "    \n",
    "-  <stirng>.zfill(<length>) -> Zfill adds zeros to the begining of string until the specified length is reached.\n",
    "    "
   ]
  },
  {
   "cell_type": "code",
   "execution_count": null,
   "id": "3c673f23",
   "metadata": {},
   "outputs": [],
   "source": [
    "print('1234567890'.isdecimal())\n",
    "print('IneuronFullStackDS'.isalnum())\n",
    "print('Ineuron Full Stack Data science'.istitle())\n",
    "print('\"I could eat bananas all day, bananas are my favorite fruit\"'.partition('bananas'))\n",
    "print('\"I could eat bananas all day, bananas are my favorite fruit\"'.rpartition('bananas'))\n",
    "print('GeeksForFreaks'.isidentifier())\n",
    "print(len('Linear Regression'))\n",
    "\n",
    "print(max('Data_Scientist'))\n",
    "print(min('Data_Analyst'))\n",
    "print('Ineuron \\n Full Stack \\n Data Science \\n Course '.splitlines())\n",
    "print('finding nemo'.capitalize())\n",
    "print('datapipelines'.upper())\n",
    "print('MLOPS'.lower())\n",
    "\n",
    "print('Transformers'.count('s'))\n",
    "print('ineuron'.split('n'))\n",
    "print('ineuron'.rsplit('n'))\n",
    "print(' EDA '.lstrip())\n",
    "print(' EDA '.rstrip())\n",
    "print(' EDA '.strip())\n",
    "print('Exploratory Data Analysis'.swapcase())\n",
    "print('_'.join(['Iris','flower','Dataset']))\n",
    "\n",
    "\n",
    "print('Ineuron'.replace('n','2'))\n",
    "print('Natural Language Processing'.encode())\n",
    "print('Nemo'.ljust(10))\n",
    "print('Nemo'.rjust(10))\n",
    "print('Nemo'.center(10))\n",
    "print('Hello'.zfill(10))"
   ]
  },
  {
   "cell_type": "markdown",
   "id": "bef4ea8c",
   "metadata": {},
   "source": [
    "# Q2. How do the string forms in Python 3.X vary in terms of operations?"
   ]
  },
  {
   "cell_type": "markdown",
   "id": "628ead52",
   "metadata": {},
   "source": [
    "Ans. In Python3 default format of strings is Unicode Whereas in Pyton2 we need to explicitly mention Unicode value using u."
   ]
  },
  {
   "cell_type": "markdown",
   "id": "79caba58",
   "metadata": {},
   "source": [
    "# Q3. In 3.X, how do you put non-ASCII Unicode characters in a string?"
   ]
  },
  {
   "cell_type": "code",
   "execution_count": null,
   "id": "2a775ad5",
   "metadata": {},
   "outputs": [],
   "source": [
    "Ans.  In Python 3.x unidecode() method from unidecode library can be used to put non-ASCII Unicode Characters in a string."
   ]
  },
  {
   "cell_type": "markdown",
   "id": "0c98049e",
   "metadata": {},
   "source": [
    "# Q4. In Python 3.X, what are the key differences between text-mode and binary-mode files?"
   ]
  },
  {
   "cell_type": "markdown",
   "id": "7160e4a2",
   "metadata": {},
   "source": [
    "Ans. A text file contains textual information in the form of alphabets, numerals, and special characters or symbols. A binary file, on the other hand, contains bytes or a compiled version of a text file.\n",
    "\n",
    "When a file is opened in text mode, reading its data automatically decodes its content (as per the platform default or per provided encoding) and returns it as a str; writing takes a str and automatically encodes it before transferring it to the file. Additionally, text mode files support universal end-of-line translation and encoding specification arguments.\n",
    "\n",
    "When a file is opened in binary mode by appending a b to the mode string argument in the open() call, reading its data does not decode it and simply returns its content unmodified as a bytes object; writing takes a bytes object and transfers it to the file without modification. Additionally, binary-mode files accept a bytearray object for the file's conten"
   ]
  },
  {
   "cell_type": "markdown",
   "id": "41bede69",
   "metadata": {},
   "source": [
    "# Q5. How can you interpret a Unicode text file containing text encoded in a different encoding than your platform's default?"
   ]
  },
  {
   "cell_type": "markdown",
   "id": "7f885dbb",
   "metadata": {},
   "source": [
    "Ans.you can interpret a Unicode text file containing text encoded in a different encoding than your platform's default using the encode() and decode() methods. The default encoding parameter is UTF-8."
   ]
  },
  {
   "cell_type": "markdown",
   "id": "dd6a81aa",
   "metadata": {},
   "source": [
    "# Q6. What is the best way to make a Unicode text file in a particular encoding format?"
   ]
  },
  {
   "cell_type": "markdown",
   "id": "f6b17187",
   "metadata": {},
   "source": [
    "Ans.  Use str.encode() and file.write() to make a Unicode text file in a particular encoding format, default encoding format is UTF-18.\n",
    "\n",
    "Call str.encode(encoding) with encoding set to utf8 to encode str.\n",
    "Call open(file, mode) to open a file with mode set to wb . wb writes to files in binary mode & preserves UTF-8format.\n",
    "Call file.write(data) to write data to the file."
   ]
  },
  {
   "cell_type": "code",
   "execution_count": null,
   "id": "6db5f40f",
   "metadata": {},
   "outputs": [],
   "source": [
    "unicode_text = \"आप नीचे अपनी भाषा और इनपुट उपकरण चुनें और लिखना आरंभ करें\"\n",
    "encoded_unicode_text = unicode_text.encode(\"utf-8\")\n",
    "print(encoded_unicode_text,end=\"\\n\\n\")\n",
    "\n",
    "w_file = open(\"w_file.txt\",\"wb\")\n",
    "w_file.write(encoded_unicode_text)\n",
    "w_file.close()\n",
    "\n",
    "r_file = open(\"w_file.txt\",\"rb\")\n",
    "data = r_file.read()\n",
    "print(data)"
   ]
  },
  {
   "cell_type": "markdown",
   "id": "5b90ffbb",
   "metadata": {},
   "source": [
    "# Q7. What qualifies ASCII text as a form of Unicode text?"
   ]
  },
  {
   "cell_type": "markdown",
   "id": "738051a3",
   "metadata": {},
   "source": [
    "Ans.Unicode represents the majority of the world's written languages. ASCII has its equivalent in Unicode. ASCII represents lowercase letters (a-z), capital letters (A-Z), digits (0–9), and symbols such as punctuation marks, whereas Unicode represents letters of English, Arabic, Greek, etc. A greater variety of characters than ASCII, including mathematical symbols, historical scripts, and emoji."
   ]
  },
  {
   "cell_type": "markdown",
   "id": "e509a080",
   "metadata": {},
   "source": [
    "# Q8. How much of an effect does the change in string types in Python 3.X have on your code?"
   ]
  },
  {
   "cell_type": "markdown",
   "id": "efed4a01",
   "metadata": {},
   "source": [
    "Ans. Python 3 stores strings as Unicode by default, whereas Python 2 requires that a string be marked with an u if it is to be stored as Unicode. Unicode strings are more versatile than Python 3.X's default ASCII strings because they can store letters from foreign languages, emoji, and standard Roman letters and numerals."
   ]
  },
  {
   "cell_type": "code",
   "execution_count": null,
   "id": "24474937",
   "metadata": {},
   "outputs": [],
   "source": []
  }
 ],
 "metadata": {
  "kernelspec": {
   "display_name": "Python 3 (ipykernel)",
   "language": "python",
   "name": "python3"
  },
  "language_info": {
   "codemirror_mode": {
    "name": "ipython",
    "version": 3
   },
   "file_extension": ".py",
   "mimetype": "text/x-python",
   "name": "python",
   "nbconvert_exporter": "python",
   "pygments_lexer": "ipython3",
   "version": "3.9.12"
  }
 },
 "nbformat": 4,
 "nbformat_minor": 5
}
