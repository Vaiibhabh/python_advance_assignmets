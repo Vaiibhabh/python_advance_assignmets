{
 "cells": [
  {
   "cell_type": "markdown",
   "id": "9babd164",
   "metadata": {},
   "source": [
    "# Q1. What are the benefits of the built-in array package, if any?"
   ]
  },
  {
   "cell_type": "markdown",
   "id": "fb872e10",
   "metadata": {},
   "source": [
    "Ans. Multiple data items of the same type are represented by arrays using a single name. Arrays allow random access to their elements via the index number. Arrays assign contiguous memory locations to each of their elements. Therefore, there is no possibility of extra memory being allocated for arrays. This prevents memory overflow and memory shortage in arrays."
   ]
  },
  {
   "cell_type": "markdown",
   "id": "b6cefd3b",
   "metadata": {},
   "source": [
    "# Q2. What are some of the array package's limitations?"
   ]
  },
  {
   "cell_type": "markdown",
   "id": "23a13f6d",
   "metadata": {},
   "source": [
    "Ans. The number of array elements to be stored should be known beforehand. A collection is a static structure (which means the array is of fixed size). Once declared, the array size cannot be altered. It cannot have its allocated memory increased or decreased.\n",
    "\n",
    "Due to the fact that array elements are stored in consecutive memory locations and the shifting operation is expensive, insertion and deletion are quite difficult.\n",
    "\n",
    "Allocating less memory than necessary causes a problem, as does allocating more memory than required."
   ]
  },
  {
   "cell_type": "markdown",
   "id": "d063d96a",
   "metadata": {},
   "source": [
    "# Q3. Describe the main differences between the array and numpy packages."
   ]
  },
  {
   "cell_type": "markdown",
   "id": "8c603ba2",
   "metadata": {},
   "source": [
    "Ans. NumPy offers a wide range of numerical operations, in contrast to the array package's lack of support for numerical calculations involving the array's items in numeric form.\n",
    "\n",
    "An array is a one-dimensional entity that stores numerical data, whereas numpy can contain multiple dimensions.\n",
    "\n",
    "In array, an item can be accessed by its index position, which is a simple operation, whereas in numpy, an item must be accessed by its column and row indexes, which is a slightly more time-consuming process. Likewise for appending operation.\n",
    "\n",
    "In the case of array, a tabular structure is not formed, whereas in numpy, a tabular structure is formed."
   ]
  },
  {
   "cell_type": "markdown",
   "id": "5d394cf0",
   "metadata": {},
   "source": [
    "# Q4. Explain the distinctions between the empty, ones, and zeros functions."
   ]
  },
  {
   "cell_type": "markdown",
   "id": "3c6bb84e",
   "metadata": {},
   "source": [
    "Ans. Following are the differences between the empty, ones, and zero functions:\n",
    "\n",
    "A function that contains no statements within its body is an empty function. Python will return an error if a function definition is attempted without a statement. To avoid this, the pass statement is utilised. pass is a special Python statement that has no effect. It functions only as a dummy statement.\n",
    "\n",
    "This function returns a new array of the specified shape and data type, with each element's value set to 1.\n",
    "\n",
    "This function returns a new array of the specified shape and data type with each element's value set to 0."
   ]
  },
  {
   "cell_type": "markdown",
   "id": "10109e23",
   "metadata": {},
   "source": [
    "# Q5. In the fromfunction function, which is used to construct new arrays, what is the role of the callable argument?"
   ]
  },
  {
   "cell_type": "markdown",
   "id": "c30b65c7",
   "metadata": {},
   "source": [
    "Ans.  Its function is to execute the function over each coordinate and the resulting array. The function is called with N parameters, where N is the rank of shape. Each parameter represents the coordinates of the array varying along a specific axis."
   ]
  },
  {
   "cell_type": "markdown",
   "id": "4b3265a8",
   "metadata": {},
   "source": [
    "# Q6. What happens when a numpy array is combined with a single-value operand (a scalar, such as an int or a floating-point value) through addition, as in the expression A + n?"
   ]
  },
  {
   "cell_type": "markdown",
   "id": "ccfc5e3a",
   "metadata": {},
   "source": [
    "Ans.  If any scaler value such as integer is added to the numpy array then all the elements inside the array will add that value in it."
   ]
  },
  {
   "cell_type": "markdown",
   "id": "a7360fa8",
   "metadata": {},
   "source": [
    "# Q7. Can array-to-scalar operations use combined operation-assign operators (such as += or *=)? What is the outcome?"
   ]
  },
  {
   "cell_type": "code",
   "execution_count": null,
   "id": "80231707",
   "metadata": {},
   "outputs": [],
   "source": [
    "Ans. It will carry out provided operation on all elements of array."
   ]
  },
  {
   "cell_type": "markdown",
   "id": "4e090d77",
   "metadata": {},
   "source": [
    "# Q8. Does a numpy array contain fixed-length strings? What happens if you allocate a longer string to one of these arrays?"
   ]
  },
  {
   "cell_type": "markdown",
   "id": "e3f1a9f2",
   "metadata": {},
   "source": [
    "Ans.Yes, it is possible to include a fixed-length string in a numpy array. The dtype of any numpy array with string values is the string's maximum length. Once set, it will only be able to store strings of a maximum length determined at the time of creation. If we attempt to reassign a string value with a length greater than the maximum length of the existing elements, the system simply discards all values exceeding the maximum length, except those that are under the limit."
   ]
  },
  {
   "cell_type": "markdown",
   "id": "331726c4",
   "metadata": {},
   "source": [
    "# Q9. What happens when you combine two numpy arrays using an operation like addition (+) or multiplication (*)? What are the conditions for combining two numpy arrays?"
   ]
  },
  {
   "cell_type": "markdown",
   "id": "10357a82",
   "metadata": {},
   "source": [
    "Ans. It will simply add or multiply element to element at same position."
   ]
  },
  {
   "cell_type": "markdown",
   "id": "054a371d",
   "metadata": {},
   "source": [
    "# Q10. What is the best way to use a Boolean array to mask another array?"
   ]
  },
  {
   "cell_type": "code",
   "execution_count": null,
   "id": "0780f5c8",
   "metadata": {},
   "outputs": [],
   "source": [
    "Ans. The best way to use a Boolean array to mask another array is by Using masked_where of numpy package"
   ]
  },
  {
   "cell_type": "markdown",
   "id": "121afcf3",
   "metadata": {},
   "source": [
    "# Q11. What are three different ways to get the standard deviation of a wide collection of data using both standard Python and its packages? Sort the three of them by how quickly they execute."
   ]
  },
  {
   "cell_type": "markdown",
   "id": "0490fcef",
   "metadata": {},
   "source": [
    "Ans. np.std and math package can be used individually."
   ]
  },
  {
   "cell_type": "markdown",
   "id": "20853400",
   "metadata": {},
   "source": [
    "# 12. What is the dimensionality of a Boolean mask-generated array?"
   ]
  },
  {
   "cell_type": "markdown",
   "id": "a5e8eab1",
   "metadata": {},
   "source": [
    "Ans.  It will have same dimensionality as input array."
   ]
  },
  {
   "cell_type": "code",
   "execution_count": null,
   "id": "f91aa93b",
   "metadata": {},
   "outputs": [],
   "source": []
  }
 ],
 "metadata": {
  "kernelspec": {
   "display_name": "Python 3 (ipykernel)",
   "language": "python",
   "name": "python3"
  },
  "language_info": {
   "codemirror_mode": {
    "name": "ipython",
    "version": 3
   },
   "file_extension": ".py",
   "mimetype": "text/x-python",
   "name": "python",
   "nbconvert_exporter": "python",
   "pygments_lexer": "ipython3",
   "version": "3.9.12"
  }
 },
 "nbformat": 4,
 "nbformat_minor": 5
}
