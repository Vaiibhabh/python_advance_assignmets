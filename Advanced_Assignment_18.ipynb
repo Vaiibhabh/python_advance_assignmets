{
 "cells": [
  {
   "cell_type": "markdown",
   "id": "ea57d6ff",
   "metadata": {},
   "source": [
    "# Q1. Describe the differences between text and binary files in a single paragraph."
   ]
  },
  {
   "cell_type": "markdown",
   "id": "f15c0ba5",
   "metadata": {},
   "source": [
    "Ans. \n",
    "Text files are a subset of binary files used to store human-readable text as a rich text or plain text document. Text files also store data as a sequence of bytes, but each bit in a text file represents a character.\n",
    "\n",
    "Typical binary files store information in the form of a sequence of bytes grouped into eight or sometimes sixteen bits. These bits represent user-specific data, and such files can store multiple types of data (images, audio, text, etc.) within a single file."
   ]
  },
  {
   "cell_type": "markdown",
   "id": "342d2df9",
   "metadata": {},
   "source": [
    "# Q2. What are some scenarios where using text files will be the better option? When would you like to use binary files instead of text files?"
   ]
  },
  {
   "cell_type": "markdown",
   "id": "5adc40aa",
   "metadata": {},
   "source": [
    "Ans. Text files are less likely to become corrupted, as any undesired changes may only become apparent when the file is opened and can then be easily eliminated. Whereas For image data, use binary files instead of text files."
   ]
  },
  {
   "cell_type": "markdown",
   "id": "843b32a7",
   "metadata": {},
   "source": [
    "# Q3. What are some of the issues with using binary operations to read and write a Python integer directly to disc?"
   ]
  },
  {
   "cell_type": "markdown",
   "id": "94bdd4c0",
   "metadata": {},
   "source": [
    "Ans. When a Python integer is read or written using binary operations\n",
    "\n",
    "Binary operations involve unprocessed data.\n",
    "\n",
    "One must determine how many bytes will be read or written."
   ]
  },
  {
   "cell_type": "markdown",
   "id": "a796af8a",
   "metadata": {},
   "source": [
    "# Q4. Describe a benefit of using the with keyword instead of explicitly opening a file."
   ]
  },
  {
   "cell_type": "markdown",
   "id": "58910676",
   "metadata": {},
   "source": [
    "Ans. When a file is opened using the with keyword, it automatically closes the file if certain exceptions occur after opening the file or at the end of the file. By not leaving a file in open mode, it would not be necessary to explicitly close a file."
   ]
  },
  {
   "cell_type": "markdown",
   "id": "3b846e21",
   "metadata": {},
   "source": [
    "# Q5. Does Python have the trailing newline while reading a line of text? Does Python append a newline when you write a line of text?"
   ]
  },
  {
   "cell_type": "markdown",
   "id": "82abba17",
   "metadata": {},
   "source": [
    "Ans. Yes, Python have the trailing newline while reading a line of text. When we write a newline has to be provided in python excpicitly"
   ]
  },
  {
   "cell_type": "markdown",
   "id": "49e2db1a",
   "metadata": {},
   "source": [
    "# Q6. What file operations enable for random-access operation?"
   ]
  },
  {
   "cell_type": "markdown",
   "id": "be419a7e",
   "metadata": {},
   "source": [
    "Ans. seek() and tell() arefor the  file operations enable for random-access operation."
   ]
  },
  {
   "cell_type": "markdown",
   "id": "436c4e34",
   "metadata": {},
   "source": [
    "# Q7. When do you think you'll use the struct package the most?"
   ]
  },
  {
   "cell_type": "code",
   "execution_count": null,
   "id": "53111fa7",
   "metadata": {},
   "outputs": [],
   "source": [
    "Ans. The struct package is utilised primarily when converting common Python types to C language types."
   ]
  },
  {
   "cell_type": "markdown",
   "id": "c7b23c9f",
   "metadata": {},
   "source": [
    "# Q8. When is pickling the best option?"
   ]
  },
  {
   "cell_type": "markdown",
   "id": "1dab9a8f",
   "metadata": {},
   "source": [
    "Ans.  Pickling is best option for creating a new binary file using python"
   ]
  },
  {
   "cell_type": "markdown",
   "id": "d99c1cfd",
   "metadata": {},
   "source": [
    "# Q9. When will it be best to use the shelve package?"
   ]
  },
  {
   "cell_type": "markdown",
   "id": "e9187e5b",
   "metadata": {},
   "source": [
    "Ans. Shelve package is used to pickle data but treats the entire file as dictionary."
   ]
  },
  {
   "cell_type": "markdown",
   "id": "36f99f22",
   "metadata": {},
   "source": [
    "# Q10. What is a special restriction when using the shelve package, as opposed to using other data dictionaries?"
   ]
  },
  {
   "cell_type": "markdown",
   "id": "7e890240",
   "metadata": {},
   "source": [
    "Ans.  Only string data type can be used as key in this special dictionary object, whereas any picklable Python object can be used as value."
   ]
  },
  {
   "cell_type": "code",
   "execution_count": null,
   "id": "626fc6a2",
   "metadata": {},
   "outputs": [],
   "source": []
  }
 ],
 "metadata": {
  "kernelspec": {
   "display_name": "Python 3 (ipykernel)",
   "language": "python",
   "name": "python3"
  },
  "language_info": {
   "codemirror_mode": {
    "name": "ipython",
    "version": 3
   },
   "file_extension": ".py",
   "mimetype": "text/x-python",
   "name": "python",
   "nbconvert_exporter": "python",
   "pygments_lexer": "ipython3",
   "version": "3.9.12"
  }
 },
 "nbformat": 4,
 "nbformat_minor": 5
}
