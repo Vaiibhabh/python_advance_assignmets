{
 "cells": [
  {
   "cell_type": "markdown",
   "id": "d48e185e",
   "metadata": {},
   "source": [
    "# Q1. Which two operator overloading methods can you use in your classes to support iteration?"
   ]
  },
  {
   "cell_type": "markdown",
   "id": "55447014",
   "metadata": {},
   "source": [
    "Ans. Python's iteration-supporting operator overloading methods __iter__ and __next__ are referred to collectively as the iterator protocol.\n",
    "\n",
    "__iter__ returns the iterator object and is called at the beginning of each class's loop.\n",
    "__next__ is invoked for each iteration increment and returns the value incremented. Stopiteration is also raised when there is no return value."
   ]
  },
  {
   "cell_type": "code",
   "execution_count": 1,
   "id": "5fcdc03e",
   "metadata": {},
   "outputs": [
    {
     "name": "stdout",
     "output_type": "stream",
     "text": [
      "5 6 7 8 9 10 11 12 13 14 15 "
     ]
    }
   ],
   "source": [
    "class Counter:\n",
    "    def __init__(self,low,high):\n",
    "        self.low = low\n",
    "        self.high = high\n",
    "    def __iter__(self):\n",
    "        return self\n",
    "    def __next__(self):\n",
    "        if self.low > self.high:\n",
    "            raise StopIteration\n",
    "        else:\n",
    "            self.low =  self.low+1\n",
    "            return self.low - 1\n",
    "for ele in Counter(5,15):\n",
    "    print(ele, end=\" \")"
   ]
  },
  {
   "cell_type": "markdown",
   "id": "43e8c9cf",
   "metadata": {},
   "source": [
    "# Q2. In what contexts do the two operator overloading methods manage printing?"
   ]
  },
  {
   "cell_type": "markdown",
   "id": "017981e0",
   "metadata": {},
   "source": [
    "Ans. __str__ and __repr__ are two methods for operator overloading that control printing.\n",
    "\n",
    "The difference between these two operators is that __repr__ is intended to be unambiguous while __str__ is intended to be readable.\n",
    "Whenever an object reference is printed internally, the __str__ method will be called.\n",
    "The primary function of __str__ is to improve readability. It prints the informal string representation of an object, which can be utilised to print the object. Possible inability to convert result string to original object.\n",
    "__repr__ is used to print an object's official string representation, which includes all information and evolution."
   ]
  },
  {
   "cell_type": "code",
   "execution_count": 2,
   "id": "50c66194",
   "metadata": {},
   "outputs": [
    {
     "name": "stdout",
     "output_type": "stream",
     "text": [
      "<__main__.Student object at 0x000002096587C0D0>\n"
     ]
    }
   ],
   "source": [
    "class Student:\n",
    "    def __init__(self,name,roll_no):\n",
    "        self.name = name\n",
    "        self.roll_no = roll_no\n",
    "        \n",
    "s1 = Student(\"vaibhav\",123)\n",
    "print(str(s1))"
   ]
  },
  {
   "cell_type": "code",
   "execution_count": 3,
   "id": "7baf1773",
   "metadata": {},
   "outputs": [
    {
     "name": "stdout",
     "output_type": "stream",
     "text": [
      "Student Name: vaibhav and Roll No: 123\n"
     ]
    }
   ],
   "source": [
    "class Student:\n",
    "    def __init__(self,name,roll_no):\n",
    "        self.name = name\n",
    "        self.roll_no = roll_no\n",
    "    def __str__(self):\n",
    "        return f'Student Name: {self.name} and Roll No: {self.roll_no}'\n",
    "\n",
    "s1 = Student(\"vaibhav\",123)\n",
    "print(str(s1))"
   ]
  },
  {
   "cell_type": "code",
   "execution_count": 4,
   "id": "b36e711a",
   "metadata": {},
   "outputs": [
    {
     "name": "stdout",
     "output_type": "stream",
     "text": [
      "2023-03-23 09:17:22.774828\n",
      "Unable to convert back to original object\n",
      "datetime.datetime(2023, 3, 23, 9, 17, 22, 774828)\n",
      "2023-03-23 09:17:22.774828\n"
     ]
    }
   ],
   "source": [
    "import datetime\n",
    "today = datetime.datetime.now()\n",
    "\n",
    "s = str(today) # converting datetime object to presentable str\n",
    "print(s)\n",
    "try: d = eval(s) # converting str back to datetime object\n",
    "except: print(\"Unable to convert back to original object\")\n",
    "    \n",
    "u = repr(today) # converting datetime object to str\n",
    "print(u)\n",
    "e = eval(u) # converting str back to datetime object\n",
    "print(e)"
   ]
  },
  {
   "cell_type": "markdown",
   "id": "55c5ca57",
   "metadata": {},
   "source": [
    "# Q3. In a class, how do you intercept slice operations?"
   ]
  },
  {
   "cell_type": "markdown",
   "id": "33b5bc2e",
   "metadata": {},
   "source": [
    "Ans.In a class's __getitem__ method, slice() is used to intercept slice operations. This slice method accepts three integer parameters: start, stop, and step.\n",
    "\n",
    "Example: __getitem (slice(start,stop,step))"
   ]
  },
  {
   "cell_type": "markdown",
   "id": "ac2a609c",
   "metadata": {},
   "source": [
    "# Q4. In a class, how do you capture in-place addition?"
   ]
  },
  {
   "cell_type": "markdown",
   "id": "e7dac8ca",
   "metadata": {},
   "source": [
    "Ans. Normal addition is a+b. Unlike a+=b, which is an inplace addition operation. In this in-place addition, a will store the addition's value. The __iadd__ method of a class is used for this in-place operation."
   ]
  },
  {
   "cell_type": "code",
   "execution_count": 7,
   "id": "49cc052d",
   "metadata": {},
   "outputs": [
    {
     "name": "stdout",
     "output_type": "stream",
     "text": [
      "800\n"
     ]
    }
   ],
   "source": [
    "class Book:\n",
    "    def __init__(self,pages):\n",
    "        self.pages = pages\n",
    "    def __iadd__(self,other):\n",
    "        self.pages += other.pages\n",
    "        return self.pages\n",
    "        \n",
    "b1 = Book(300)\n",
    "b2 = Book(500)\n",
    "b1+=b2\n",
    "print(b1)"
   ]
  },
  {
   "cell_type": "markdown",
   "id": "dbfc421e",
   "metadata": {},
   "source": [
    "# Q5. When is it appropriate to use operator overloading?"
   ]
  },
  {
   "cell_type": "markdown",
   "id": "24de5710",
   "metadata": {},
   "source": [
    "Ans. When we want an operator to have a different meaning based on the context required by a user-defined function, we employ operator overloading."
   ]
  },
  {
   "cell_type": "code",
   "execution_count": 8,
   "id": "78f02435",
   "metadata": {},
   "outputs": [
    {
     "name": "stdout",
     "output_type": "stream",
     "text": [
      "Total Number of Pages -> 700\n"
     ]
    }
   ],
   "source": [
    "class Book:\n",
    "    def __init__(self,pages):\n",
    "        self.pages = pages\n",
    "    def __add__(self,other):\n",
    "        return self.pages+other.pages\n",
    "b1 = Book(200)\n",
    "b2 = Book(500)\n",
    "print(f'Total Number of Pages -> {b1+b2}')"
   ]
  },
  {
   "cell_type": "code",
   "execution_count": null,
   "id": "72863527",
   "metadata": {},
   "outputs": [],
   "source": []
  }
 ],
 "metadata": {
  "kernelspec": {
   "display_name": "Python 3 (ipykernel)",
   "language": "python",
   "name": "python3"
  },
  "language_info": {
   "codemirror_mode": {
    "name": "ipython",
    "version": 3
   },
   "file_extension": ".py",
   "mimetype": "text/x-python",
   "name": "python",
   "nbconvert_exporter": "python",
   "pygments_lexer": "ipython3",
   "version": "3.9.12"
  }
 },
 "nbformat": 4,
 "nbformat_minor": 5
}
