{
 "cells": [
  {
   "cell_type": "markdown",
   "id": "ec86c9e9",
   "metadata": {},
   "source": [
    "# 1.\tWhat are the new features added in Python 3.8 version?"
   ]
  },
  {
   "cell_type": "markdown",
   "id": "7c917461",
   "metadata": {},
   "source": [
    "Ans. New Features Added to Python Version 3.8 Include:\n",
    "\n",
    "This operator is used to assign and return a value within a single expression. This eliminates the need to initialise the variable beforehand. The primary advantage of this is that it saves a few lines of code. It is also known as The Walrus Operator because its eyes and tusks resemble those of a walrus.\n",
    "\n",
    "\n",
    "yield and return statements can return multiple values without parentheses.\n",
    "\n",
    "Reversed is compatible with dictionaries. reversed() is a built-in method for accessing elements in the reverse order of insertion.\n",
    "\n",
    "Changes have been made to dict comprehensions so that the key is computed first and the value second.\n",
    "\n",
    "importlib metadata is a new library added to the standard Python utility modules that provides an API for accessing the metadata of an installed package, such as its entry points or top-level name.\n",
    "\n",
    "F-strings now support =, which simplifies string interpolation. Python 3.8 permits the use of the previously mentioned assignment operator and equal sign (=) within f-strings.\n",
    "\n",
    "When the exponent is -1 in the three-argument form of pow(), the function calculates the modular multiplicative inverse of the given value.\n",
    "\n",
    "The csv.DictReader now returns dictionary instances rather than collections.OrderedDict.\n",
    "\n",
    "If your code is missing a comma, such as a = [(1, 2) (3, 4)], instead of throwing a TypeError, a Syntax warning is displayed."
   ]
  },
  {
   "cell_type": "markdown",
   "id": "c28a1c86",
   "metadata": {},
   "source": [
    "# 2.\tWhat is monkey patching in Python?"
   ]
  },
  {
   "cell_type": "markdown",
   "id": "dba85a05",
   "metadata": {},
   "source": [
    "Ans. The term monkey patch in Python refers to dynamic (or run-time) modifications made to a class or module. Python allows us to modify the behaviour of code at runtime."
   ]
  },
  {
   "cell_type": "code",
   "execution_count": 1,
   "id": "20f317f4",
   "metadata": {},
   "outputs": [
    {
     "name": "stdout",
     "output_type": "stream",
     "text": [
      "monkey_f() is being called\n"
     ]
    }
   ],
   "source": [
    "class A:\n",
    "    def func(self):\n",
    "        print(\"func() is being called\")\n",
    "\n",
    "def monkey_f(self):\n",
    "    print(\"monkey_f() is being called\")\n",
    "\n",
    "A.func = monkey_f\n",
    "some_object = A()\n",
    "some_object.func()"
   ]
  },
  {
   "cell_type": "markdown",
   "id": "4553b6f6",
   "metadata": {},
   "source": [
    "# 3.\tWhat is the difference between a shallow copy and deep copy?"
   ]
  },
  {
   "cell_type": "markdown",
   "id": "b2ec57f1",
   "metadata": {},
   "source": [
    "Ans.Following are the differences between a shallow copy and a deep copy:\n",
    "\n",
    "When an object is copied using copy(), it is referred to as a shallow copy because any changes made to the copied object will also be made to the original object, as both objects will reference the same address location.\n",
    "\n",
    "When an object is copied using the deepcopy() function, it is referred to as a deep copy because changes made to the copied object will not affect the original object because they will not be referencing the same address location."
   ]
  },
  {
   "cell_type": "markdown",
   "id": "d6a3f982",
   "metadata": {},
   "source": [
    "# 4.\tWhat is the maximum possible length of an identifier?"
   ]
  },
  {
   "cell_type": "markdown",
   "id": "d920639b",
   "metadata": {},
   "source": [
    "Ans. The maximum length for an identifier in Python is 79 characters. Python is a programming language of the highest level. It is also a complex form and a waste collector.\n",
    "\n",
    "Python is case-sensitive, especially when combined with identifiers.\n",
    "\n",
    "When writing or using Python identifiers, the maximum length is 79 characters.\n",
    "\n",
    "Python, however, provides identifiers with an unlimited length.\n",
    "\n",
    "The layout of PEP-8, however, prevents users from violating the rules and imposes a 79-character limit."
   ]
  },
  {
   "cell_type": "markdown",
   "id": "4312b7bb",
   "metadata": {},
   "source": [
    "# 5.\tWhat is generator comprehension?"
   ]
  },
  {
   "cell_type": "markdown",
   "id": "e0b3a9ac",
   "metadata": {},
   "source": [
    "Ans. In Python, a generator comprehension is a one-line specification for defining a generator.\n",
    "\n",
    "It is absolutely necessary to master this syntax in order to write code that is simple and readable.\n",
    "\n",
    "In contrast to list comprehension, generator comprehension employs round bracket.\n",
    "\n",
    "The generator produces one item at a time and only when it is required. Python reserves memory for the entire list within a list comprehension. Consequently, generator expressions are more memory efficient than lists."
   ]
  },
  {
   "cell_type": "code",
   "execution_count": 3,
   "id": "70fd6543",
   "metadata": {},
   "outputs": [
    {
     "name": "stdout",
     "output_type": "stream",
     "text": [
      "[0, 1, 2, 3, 4, 5, 6, 7, 8, 9]\n",
      "<generator object <genexpr> at 0x0000027694F365F0>\n",
      "0 2 4 6 8 "
     ]
    }
   ],
   "source": [
    "in_list = [x for x in range(10)] # List Comprehension\n",
    "print(in_list)\n",
    "out_gen = (x for x in in_list if x%2 == 0) # Generator Comprehension\n",
    "print(out_gen) # Returns a Generator Object\n",
    "for ele in out_gen:\n",
    "    print(ele, end=\" \")"
   ]
  },
  {
   "cell_type": "code",
   "execution_count": null,
   "id": "80b68ef7",
   "metadata": {},
   "outputs": [],
   "source": []
  }
 ],
 "metadata": {
  "kernelspec": {
   "display_name": "Python 3 (ipykernel)",
   "language": "python",
   "name": "python3"
  },
  "language_info": {
   "codemirror_mode": {
    "name": "ipython",
    "version": 3
   },
   "file_extension": ".py",
   "mimetype": "text/x-python",
   "name": "python",
   "nbconvert_exporter": "python",
   "pygments_lexer": "ipython3",
   "version": "3.9.12"
  }
 },
 "nbformat": 4,
 "nbformat_minor": 5
}
