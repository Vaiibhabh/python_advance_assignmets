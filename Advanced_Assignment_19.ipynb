{
 "cells": [
  {
   "cell_type": "markdown",
   "id": "cc437352",
   "metadata": {},
   "source": [
    "# Q1. Define the relationship between a class and its instances. Is it a one-to-one or a one-to-many partnership, for example?"
   ]
  },
  {
   "cell_type": "markdown",
   "id": "9c4b2828",
   "metadata": {},
   "source": [
    "Ans. A class specifies the valid range of values and default value for object properties. Behavior is also described by a class. An object is a member of a class, or a \"instance.\" A state of an object is one in which all of its properties have values that you define explicitly or that are determined by default settings.  Relationship between a class and its instances is a one to many partnership."
   ]
  },
  {
   "cell_type": "markdown",
   "id": "a34cb490",
   "metadata": {},
   "source": [
    "# Q2. What kind of data is held only in an instance?"
   ]
  },
  {
   "cell_type": "markdown",
   "id": "f8484c4c",
   "metadata": {},
   "source": [
    "Ans. Instance objects contain the variables that are unique to that instance."
   ]
  },
  {
   "cell_type": "markdown",
   "id": "6d78d55d",
   "metadata": {},
   "source": [
    "# Q3. What kind of knowledge is stored in a class?"
   ]
  },
  {
   "cell_type": "markdown",
   "id": "1e379412",
   "metadata": {},
   "source": [
    "Ans. Class generates a user-defined data structure containing its own data members and member functions, which can be accessed and used by instantiating the class. A class is analogous to an object's blueprint."
   ]
  },
  {
   "cell_type": "markdown",
   "id": "21295dd0",
   "metadata": {},
   "source": [
    "# Q4. What exactly is a method, and how is it different from a regular function?"
   ]
  },
  {
   "cell_type": "markdown",
   "id": "bd67282d",
   "metadata": {},
   "source": [
    "Ans. The instance variables of a class's instance can be accessed via the class's methods. Consequently, the object's method can alter its state. A function cannot access the attributes of a class instance or modify the object's state."
   ]
  },
  {
   "cell_type": "markdown",
   "id": "5461fc4a",
   "metadata": {},
   "source": [
    "# Q5. Is inheritance supported in Python, and if so, what is the syntax?"
   ]
  },
  {
   "cell_type": "markdown",
   "id": "3a131a36",
   "metadata": {},
   "source": [
    "Ans. Python does support inheritance. The following inheritance types are supported by Python:\n",
    "\n",
    "Simple Inheritence\n",
    "\n",
    "Multiple Inheritence\n",
    "\n",
    "Multilevel lInheritence\n",
    "\n",
    "Hybrid Inheritence\n",
    "\n",
    "Hierracial Inheritence\n"
   ]
  },
  {
   "cell_type": "code",
   "execution_count": 2,
   "id": "f74c7dbb",
   "metadata": {},
   "outputs": [],
   "source": [
    "class Person:\n",
    "    def __init__(self, fname, lname):\n",
    "        self.first_name = fname\n",
    "        self.last_name = lname\n",
    "class Student(Person):\n",
    "    pass"
   ]
  },
  {
   "cell_type": "markdown",
   "id": "a68afc7b",
   "metadata": {},
   "source": [
    "# Q6. How much encapsulation (making instance or class variables private) does Python support?"
   ]
  },
  {
   "cell_type": "markdown",
   "id": "378b2dde",
   "metadata": {},
   "source": [
    "Ans. Encapsulation is the concept of enclosing data and methods that operate on data within a single unit. This restricts direct access to variables and methods and protects against accidental data modification. To prevent unintended modification, an objects variable can only be modified through an objects method."
   ]
  },
  {
   "cell_type": "markdown",
   "id": "66492401",
   "metadata": {},
   "source": [
    "# Q7. How do you distinguish between a class variable and an instance variable?"
   ]
  },
  {
   "cell_type": "markdown",
   "id": "468de16a",
   "metadata": {},
   "source": [
    "Ans. The Class Attribute is accessible to all instances of the class. Unlike Class Attributes, Instance Attributes are only accessible to the object or Instance of the class.\n",
    "\n",
    "pvm maintains a single copy of Class attributes at the class level. pvm maintains different copies of instance attributes at the object/instance level."
   ]
  },
  {
   "cell_type": "markdown",
   "id": "f3f944af",
   "metadata": {},
   "source": [
    "# Q8. When, if ever, can self be included in a class's method definitions?"
   ]
  },
  {
   "cell_type": "markdown",
   "id": "5bc54fdb",
   "metadata": {},
   "source": [
    "Ans. Yes, self can included in class method definations to access the instance variables inside class methods."
   ]
  },
  {
   "cell_type": "markdown",
   "id": "15e51edf",
   "metadata": {},
   "source": [
    "# Q9. What is the difference between the _ _add_ _ and the _ _radd_ _ methods?"
   ]
  },
  {
   "cell_type": "markdown",
   "id": "7e541185",
   "metadata": {},
   "source": [
    "Ans.  Entering __ radd__ Python will first try __ add__(), and if that returns Not Implemented Python will check if the right-hand operand implements __ radd__, and if it does, it will call __ radd__() rather than raising a TypeError"
   ]
  },
  {
   "cell_type": "markdown",
   "id": "6bc844d1",
   "metadata": {},
   "source": [
    "# Q10. When is it necessary to use a reflection method? When do you not need it, even though you support the operation in question?"
   ]
  },
  {
   "cell_type": "markdown",
   "id": "4da2494d",
   "metadata": {},
   "source": [
    "Ans. Reflection method we frequently encounter the requirement that a method in the executing object, a variable in the calling object, or a field of the object should be assigned, while the method name or field name cannot be determined when encoding the code and must be passed as strings via parameters."
   ]
  },
  {
   "cell_type": "markdown",
   "id": "b14183b9",
   "metadata": {},
   "source": [
    "# Q11. What is the _ _iadd_ _ method called?"
   ]
  },
  {
   "cell_type": "markdown",
   "id": "f330f460",
   "metadata": {},
   "source": [
    "Ans. __ iadd__ method is called when we use implementation like a+=b which is a.__ iadd__(b)"
   ]
  },
  {
   "cell_type": "markdown",
   "id": "f0ba9772",
   "metadata": {},
   "source": [
    "# Q12. Is the _ _init_ _ method inherited by subclasses? What do you do if you need to customize its behavior within a subclass?"
   ]
  },
  {
   "cell_type": "markdown",
   "id": "4f10ba93",
   "metadata": {},
   "source": [
    "Ans. : Yes, __ init__ method will be inherited by subclasses. if we want to customize its behaviour within a subclass we can use super() method."
   ]
  },
  {
   "cell_type": "code",
   "execution_count": null,
   "id": "5396d396",
   "metadata": {},
   "outputs": [],
   "source": []
  }
 ],
 "metadata": {
  "kernelspec": {
   "display_name": "Python 3 (ipykernel)",
   "language": "python",
   "name": "python3"
  },
  "language_info": {
   "codemirror_mode": {
    "name": "ipython",
    "version": 3
   },
   "file_extension": ".py",
   "mimetype": "text/x-python",
   "name": "python",
   "nbconvert_exporter": "python",
   "pygments_lexer": "ipython3",
   "version": "3.9.12"
  }
 },
 "nbformat": 4,
 "nbformat_minor": 5
}
