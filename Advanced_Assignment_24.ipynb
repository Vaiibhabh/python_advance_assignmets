{
 "cells": [
  {
   "cell_type": "markdown",
   "id": "87a314a5",
   "metadata": {},
   "source": [
    "# Q1. Is it permissible to use several import statements to import the same module? What would the goal be? Can you think of a situation where it would be beneficial?"
   ]
  },
  {
   "cell_type": "markdown",
   "id": "afd74208",
   "metadata": {},
   "source": [
    "Ans. Yes, it is permissible to use several import statements to import the same module. It is used in case when we have to import multiple functions from same module."
   ]
  },
  {
   "cell_type": "markdown",
   "id": "3fd3f28a",
   "metadata": {},
   "source": [
    "# Q2. What are some of a module's characteristics? (Name at least one.)"
   ]
  },
  {
   "cell_type": "markdown",
   "id": "b1123f1f",
   "metadata": {},
   "source": [
    "Ans. The following are some of a module's characteristics:\n",
    "\n",
    "__ name__ : It returns the name of the module\n",
    "    \n",
    "__ doc__ : It denotes the documentation string line written in a module code.\n",
    "     \n",
    "__ file__ : It holds the name and path of the module file from which it is loaded\n",
    "    \n",
    "__ dict__ : It return a dictionary object of module attributes, functions and other definitions and their respective values "
   ]
  },
  {
   "cell_type": "markdown",
   "id": "05514591",
   "metadata": {},
   "source": [
    "# Q3. Circular importing, such as when two modules import each other, can lead to dependencies and bugs that aren't visible. How can you go about creating a program that avoids mutual importing?"
   ]
  },
  {
   "cell_type": "markdown",
   "id": "a8a20aec",
   "metadata": {},
   "source": [
    "Ans. Circular importing means importing the two modules in each other. If suppose we are wokring in MOD1.py file and it is importing some function say F2() from some other module say MOD2.PY file or we can do vice-versa. What will happen is: This will give an import error.\n",
    "\n",
    "This is because when we import F2() function from module MOD2.py, then this will execute MOD2.py file. And in MOD2.py file there is an another statement of importing MOD1.py module.\n",
    "\n",
    "This will result in endless loop. To avoid this error just do one thingWe can use if __ name__ == '__ main__'\n",
    "\n",
    "In the function, you can't directly refer to the function in the program. The addition of this sentence avoids the endless loop of the program ."
   ]
  },
  {
   "cell_type": "markdown",
   "id": "7d166bff",
   "metadata": {},
   "source": [
    "# Q4. Why is  _ _all_ _ in Python?"
   ]
  },
  {
   "cell_type": "markdown",
   "id": "0126a9b2",
   "metadata": {},
   "source": [
    "Ans.  It provides list of all modules present in a library."
   ]
  },
  {
   "cell_type": "markdown",
   "id": "138b1401",
   "metadata": {},
   "source": [
    "# Q5. In what situation is it useful to refer to the _ _name_ _ attribute or the string '_ _main_ _'?"
   ]
  },
  {
   "cell_type": "markdown",
   "id": "e385cc92",
   "metadata": {},
   "source": [
    "Ans. If we want to refer to the module we are currently working on during code execution, we use the name attribute. In that case, it returns the module we are currently working on. If the current module has been imported from another module, then name will contain the name of the module from which it has been imported. The string __ main _ identifies the module on which we're currently working."
   ]
  },
  {
   "cell_type": "markdown",
   "id": "14996be6",
   "metadata": {},
   "source": [
    "# Q6. What are some of the benefits of attaching a program counter to the RPN interpreter application, which interprets an RPN script line by line?"
   ]
  },
  {
   "cell_type": "code",
   "execution_count": null,
   "id": "36f85049",
   "metadata": {},
   "outputs": [],
   "source": []
  },
  {
   "cell_type": "markdown",
   "id": "4c4e78ad",
   "metadata": {},
   "source": [
    "# Q7. What are the minimum expressions or statements (or both) that you'd need to render a basic programming language like RPN primitive but complete— that is, capable of carrying out any computerised task theoretically possible?"
   ]
  },
  {
   "cell_type": "code",
   "execution_count": null,
   "id": "46bd09d7",
   "metadata": {},
   "outputs": [],
   "source": [
    "# "
   ]
  }
 ],
 "metadata": {
  "kernelspec": {
   "display_name": "Python 3 (ipykernel)",
   "language": "python",
   "name": "python3"
  },
  "language_info": {
   "codemirror_mode": {
    "name": "ipython",
    "version": 3
   },
   "file_extension": ".py",
   "mimetype": "text/x-python",
   "name": "python",
   "nbconvert_exporter": "python",
   "pygments_lexer": "ipython3",
   "version": "3.9.12"
  }
 },
 "nbformat": 4,
 "nbformat_minor": 5
}
