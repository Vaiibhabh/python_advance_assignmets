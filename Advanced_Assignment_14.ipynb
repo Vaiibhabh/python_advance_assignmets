{
 "cells": [
  {
   "cell_type": "markdown",
   "id": "dc4020f1",
   "metadata": {},
   "source": [
    "# Q1. Is an assignment operator like += only for show? Is it possible that it would lead to faster results at the runtime?"
   ]
  },
  {
   "cell_type": "markdown",
   "id": "9e1445aa",
   "metadata": {},
   "source": [
    "Ans. A=A+1 is equivalent to locating A and adding 1 to it. The value is then stored in variable A. This expression causes Python to search twice for the memory holder of a. But A+=1 simply indicates that the value of A will be increased by 1. As the memory address must be identified only once, += expedites operations."
   ]
  },
  {
   "cell_type": "markdown",
   "id": "f0977c38",
   "metadata": {},
   "source": [
    "# Q2. What is the smallest number of statements you'd have to write in most programming languages to replace the Python expression a, b = a + b, a?"
   ]
  },
  {
   "cell_type": "markdown",
   "id": "4b76d5b5",
   "metadata": {},
   "source": [
    "Ans. In languages other than Python, the minimum number of lines required to write the above code will be four: two for assigning initial values for variables a and b, and two for reassignment, i.e. a=a+b and b=a."
   ]
  },
  {
   "cell_type": "markdown",
   "id": "2c74c1dd",
   "metadata": {},
   "source": [
    "# Q3. In Python, what is the most effective way to set a list of 100 integers to 0?"
   ]
  },
  {
   "cell_type": "markdown",
   "id": "08a61672",
   "metadata": {},
   "source": [
    "Ans. Python's most efficient methods for setting a list of 100 integers to 0 are the repetition operator (*) and list comprehension."
   ]
  },
  {
   "cell_type": "code",
   "execution_count": 3,
   "id": "88d8cb12",
   "metadata": {},
   "outputs": [
    {
     "name": "stdout",
     "output_type": "stream",
     "text": [
      "[0, 0, 0, 0, 0, 0, 0, 0, 0, 0, 0, 0, 0, 0, 0, 0, 0, 0, 0, 0, 0, 0, 0, 0, 0, 0, 0, 0, 0, 0, 0, 0, 0, 0, 0, 0, 0, 0, 0, 0, 0, 0, 0, 0, 0, 0, 0, 0, 0, 0, 0, 0, 0, 0, 0, 0, 0, 0, 0, 0, 0, 0, 0, 0, 0, 0, 0, 0, 0, 0, 0, 0, 0, 0, 0, 0, 0, 0, 0, 0, 0, 0, 0, 0, 0, 0, 0, 0, 0, 0, 0, 0, 0, 0, 0, 0, 0, 0, 0, 0]\n"
     ]
    }
   ],
   "source": [
    "zero_list = [0 for x in range(100)]\n",
    "print(zero_list)"
   ]
  },
  {
   "cell_type": "markdown",
   "id": "8348ef71",
   "metadata": {},
   "source": [
    "# Q4. What is the most effective way to initialise a list of 99 integers that repeats the sequence 1, 2, 3? S If necessary, show step-by-step instructions on how to accomplish this."
   ]
  },
  {
   "cell_type": "code",
   "execution_count": 4,
   "id": "15c40474",
   "metadata": {
    "scrolled": true
   },
   "outputs": [
    {
     "name": "stdout",
     "output_type": "stream",
     "text": [
      "[1, 2, 3, 1, 2, 3, 1, 2, 3, 1, 2, 3, 1, 2, 3, 1, 2, 3, 1, 2, 3, 1, 2, 3, 1, 2, 3, 1, 2, 3, 1, 2, 3, 1, 2, 3, 1, 2, 3, 1, 2, 3, 1, 2, 3, 1, 2, 3, 1, 2, 3, 1, 2, 3, 1, 2, 3, 1, 2, 3, 1, 2, 3, 1, 2, 3, 1, 2, 3, 1, 2, 3, 1, 2, 3, 1, 2, 3, 1, 2, 3, 1, 2, 3, 1, 2, 3, 1, 2, 3, 1, 2, 3, 1, 2, 3, 1, 2, 3]\n"
     ]
    }
   ],
   "source": [
    "my_list = [1,2,3]*33\n",
    "print(my_list)"
   ]
  },
  {
   "cell_type": "markdown",
   "id": "c5c203ad",
   "metadata": {},
   "source": [
    "# Q5. If you're using IDLE to run a Python application, explain how to print a multidimensional list as efficiently?"
   ]
  },
  {
   "cell_type": "code",
   "execution_count": 13,
   "id": "3da9a1e0",
   "metadata": {},
   "outputs": [
    {
     "name": "stdout",
     "output_type": "stream",
     "text": [
      "1 1 2 2 3 3 4 4 5 5 "
     ]
    }
   ],
   "source": [
    "lst = [[1,1],[2,2],[3,3],[4,4],[5,5]] # 2 dimensional List\n",
    "for x in range(len(lst)):\n",
    "    for y in range(len(lst[x])):\n",
    "        print(lst[x][y],end=\" \")"
   ]
  },
  {
   "cell_type": "markdown",
   "id": "f5abbe5c",
   "metadata": {},
   "source": [
    "# Q6. Is it possible to use list comprehension with a string? If so, how can you go about doing it?"
   ]
  },
  {
   "cell_type": "markdown",
   "id": "633fa28c",
   "metadata": {},
   "source": [
    "Ans. List comprehension with string is possible."
   ]
  },
  {
   "cell_type": "code",
   "execution_count": 14,
   "id": "ddbce14a",
   "metadata": {},
   "outputs": [
    {
     "name": "stdout",
     "output_type": "stream",
     "text": [
      "['c', 'o', 'u', 'r', 's', 'e', 'r', 'a']\n"
     ]
    }
   ],
   "source": [
    "lst = [i for i in 'coursera']\n",
    "print(lst)"
   ]
  },
  {
   "cell_type": "markdown",
   "id": "84b11369",
   "metadata": {},
   "source": [
    "# Q7. From the command line, how do you get support with a user-written Python programme? Is this possible from inside IDLE?"
   ]
  },
  {
   "cell_type": "markdown",
   "id": "2a70cb0f",
   "metadata": {},
   "source": [
    "Ans. Receive assistance with a user-written Python Program: Open a command prompt (Windows) or terminal (Linux/Mac). If the current working directory is identical to where the file was saved, you can specify the filename as a command-line argument to the Python interpreter.\n",
    "\n",
    "IDLE offers assistance with user-written Python programmes: IDLE can also be used to create and execute script files. From the Shell window's File menu, select New File. This should launch a new editing window. Enter the code that will be executed. Save the file to disc by selecting File Save or File Save As... from the menu in that window. Select Run then Run Module. The output must be returned to the interpreter."
   ]
  },
  {
   "cell_type": "markdown",
   "id": "4b829f02",
   "metadata": {},
   "source": [
    "# Q8. Functions are said to be “first-class objects” in Python but not in most other languages, such as C++ or Java. What can you do in Python with a function (callable object) that you can't do in C or C++?"
   ]
  },
  {
   "cell_type": "markdown",
   "id": "0faa95a0",
   "metadata": {},
   "source": [
    "Ans. The tasks that can be accomplished with Python's functions are as follows:\n",
    "\n",
    "Functions are instances of the Object class.\n",
    "The function can be stored in a variable.\n",
    "The function can be passed as a parameter to another function.\n",
    "A function may return the function itself.\n",
    "You can store them in hash tables, lists, and other data structures."
   ]
  },
  {
   "cell_type": "markdown",
   "id": "3da775e5",
   "metadata": {},
   "source": [
    "# Q9. How do you distinguish between a wrapper, a wrapped feature, and a decorator?"
   ]
  },
  {
   "cell_type": "markdown",
   "id": "af6e977a",
   "metadata": {},
   "source": [
    "Ans. Wrappers Around the functions are known as Decorators."
   ]
  },
  {
   "cell_type": "markdown",
   "id": "76e3e94a",
   "metadata": {},
   "source": [
    "# Q10. If a function is a generator function, what does it return?"
   ]
  },
  {
   "cell_type": "markdown",
   "id": "e1b2ffc5",
   "metadata": {},
   "source": [
    "Ans. Generator functions are a special type of function that return an iterator that is idle. These objects can be iterated over like a list. In contrast to lists, however, lazy iterators do not store their content in memory."
   ]
  },
  {
   "cell_type": "markdown",
   "id": "e242121b",
   "metadata": {},
   "source": [
    "# Q11. What is the one improvement that must be made to a function in order for it to become a generator function in the Python language?"
   ]
  },
  {
   "cell_type": "markdown",
   "id": "78644e26",
   "metadata": {},
   "source": [
    "Ans. Generator is written as a normal function, but yield is used to return values rather than return."
   ]
  },
  {
   "cell_type": "markdown",
   "id": "31506435",
   "metadata": {},
   "source": [
    "# Q12. Identify at least one benefit of generators."
   ]
  },
  {
   "cell_type": "markdown",
   "id": "a558d158",
   "metadata": {},
   "source": [
    " Ans. The return statement returns a single value to its caller, whereas the yield statement can generate an array of values. If we want to iterate over a sequence without storing the entire sequence in memory, we should use generator."
   ]
  }
 ],
 "metadata": {
  "kernelspec": {
   "display_name": "Python 3 (ipykernel)",
   "language": "python",
   "name": "python3"
  },
  "language_info": {
   "codemirror_mode": {
    "name": "ipython",
    "version": 3
   },
   "file_extension": ".py",
   "mimetype": "text/x-python",
   "name": "python",
   "nbconvert_exporter": "python",
   "pygments_lexer": "ipython3",
   "version": "3.9.12"
  }
 },
 "nbformat": 4,
 "nbformat_minor": 5
}
