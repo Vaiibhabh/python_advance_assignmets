{
 "cells": [
  {
   "cell_type": "markdown",
   "id": "87b72c12",
   "metadata": {},
   "source": [
    "# Q1. If you have any, what are your choices for increasing the comparison between different figures on the same graph?"
   ]
  },
  {
   "cell_type": "markdown",
   "id": "1ee8b085",
   "metadata": {},
   "source": [
    "Ans. Matplotlib provides a method called subplots for facilitating the comparison of multiple figures on a single graph. Subplots are a collection of smaller axes (each of which is a plot) that can coexist within a single figure."
   ]
  },
  {
   "cell_type": "markdown",
   "id": "67ad22cd",
   "metadata": {},
   "source": [
    "# Q2. Can you explain the benefit of compound interest over a higher rate of interest that does not compound after reading this chapter?"
   ]
  },
  {
   "cell_type": "markdown",
   "id": "f14bb3a8",
   "metadata": {},
   "source": [
    "Ans. Compound interest causes a sum of money to grow more quickly than simple interest because, in addition to earning returns on the money you invest, you also earn returns on those returns at the end of each compounding period, which may be daily, monthly, quarterly, or annually."
   ]
  },
  {
   "cell_type": "markdown",
   "id": "8d72648e",
   "metadata": {},
   "source": [
    "# Q3. What is a histogram, exactly? Name a numpy method for creating such a graph."
   ]
  },
  {
   "cell_type": "markdown",
   "id": "b30d42af",
   "metadata": {},
   "source": [
    "Ans. The histogram displays the total values of X relative to Y. That is, at any specific position of X, the Y value indicates the total number of counts or data below that position. histogram() is the used built-in function."
   ]
  },
  {
   "cell_type": "markdown",
   "id": "51ca1cd1",
   "metadata": {},
   "source": [
    "# Q4. If necessary, how do you change the aspect ratios between the X and Y axes?"
   ]
  },
  {
   "cell_type": "markdown",
   "id": "be102efc",
   "metadata": {},
   "source": [
    "Ans. We can use figure(figsize=(10,8)) function inside the matplot.pyplot library which we scale down or up the graph."
   ]
  },
  {
   "cell_type": "markdown",
   "id": "b008729c",
   "metadata": {},
   "source": [
    "# Q5. Compare and contrast the three types of array multiplication between two numpy arrays: dot product, outer product, and regular multiplication of two numpy arrays."
   ]
  },
  {
   "cell_type": "markdown",
   "id": "97662f6e",
   "metadata": {},
   "source": [
    "Ans. In conventional multiplication, values with identical indexes are multiplied.\n",
    "\n",
    "In dot product, rows of one array are multiplied with columns of another array, and so on.\n",
    "\n",
    "During outer multiplication, each element of the first array a1 is multiplied by each element of the second array a2 so that the number of columns equals the number of elements in the second array a2."
   ]
  },
  {
   "cell_type": "markdown",
   "id": "bd5b4761",
   "metadata": {},
   "source": [
    "# Q6. Before you buy a home, which numpy function will you use to measure your monthly mortgage payment?"
   ]
  },
  {
   "cell_type": "markdown",
   "id": "59a4b635",
   "metadata": {},
   "source": [
    "Ans. np.pmt(rate, nper, pv) function we will be using in order to calculate monthly mortgage payment before you purchase a house.\n",
    "\n",
    "rate = The periodic interest rate\n",
    "\n",
    "nper = The number of payment periods\n",
    "\n",
    "pv = The total value of the mortgage loan"
   ]
  },
  {
   "cell_type": "markdown",
   "id": "50b51537",
   "metadata": {},
   "source": [
    "# Q7. Can string data be stored in numpy arrays? If so, list at least one restriction that applies to this data."
   ]
  },
  {
   "cell_type": "markdown",
   "id": "78f2aaf5",
   "metadata": {},
   "source": [
    "Ans. Yes, an array can store the string. The limitation which imposed on the string data is, whenever we store the data of string dtype then it should should keep in mind that the string which is having the maximum length is the limit."
   ]
  }
 ],
 "metadata": {
  "kernelspec": {
   "display_name": "Python 3 (ipykernel)",
   "language": "python",
   "name": "python3"
  },
  "language_info": {
   "codemirror_mode": {
    "name": "ipython",
    "version": 3
   },
   "file_extension": ".py",
   "mimetype": "text/x-python",
   "name": "python",
   "nbconvert_exporter": "python",
   "pygments_lexer": "ipython3",
   "version": "3.9.12"
  }
 },
 "nbformat": 4,
 "nbformat_minor": 5
}
