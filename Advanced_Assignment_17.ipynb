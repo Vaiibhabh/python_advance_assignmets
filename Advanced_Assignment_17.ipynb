{
 "cells": [
  {
   "cell_type": "markdown",
   "id": "fa6c8538",
   "metadata": {},
   "source": [
    "# Q1. Explain the difference between greedy and non-greedy syntax with visual terms in as few words as possible. What is the bare minimum effort required to transform a greedy pattern into a non-greedy one? What characters or characters can you introduce or change?"
   ]
  },
  {
   "cell_type": "markdown",
   "id": "d50bac29",
   "metadata": {},
   "source": [
    "Ans. Greedy Match will attempt to match as many repetitions of the quantified pattern as possible, while Non Greedy Match will attempt to match as few repetitions of the quantified pattern as possible."
   ]
  },
  {
   "cell_type": "code",
   "execution_count": 1,
   "id": "8b6983e7",
   "metadata": {},
   "outputs": [
    {
     "name": "stdout",
     "output_type": "stream",
     "text": [
      "['vvvvvv', '']\n",
      "['', 'v', '', 'v', '', 'v', '', 'v', '', 'v', '', 'v', '']\n"
     ]
    }
   ],
   "source": [
    "import re\n",
    "print(re.findall(\"v*\", \"vvvvvv\")) # Greedy Match Synatx\n",
    "print(re.findall(\"v*?\", \"vvvvvv\")) # Non Greddy Syntax"
   ]
  },
  {
   "cell_type": "markdown",
   "id": "fba15062",
   "metadata": {},
   "source": [
    "# Q2. When exactly does greedy versus non-greedy make a difference?  What if you're looking for a non-greedy match but the only one available is greedy?"
   ]
  },
  {
   "cell_type": "markdown",
   "id": "30bd70de",
   "metadata": {},
   "source": [
    "Ans. The Greedy Match will attempt to match the quantified pattern as many times as possible. The Non Greedy Match algorithm attempts to match the quantified pattern with as few repetitions as possible. If only Non Greedy Match is available, we can identify the required pattern using other filtering or pattern matching methods of regex."
   ]
  },
  {
   "cell_type": "markdown",
   "id": "b1802147",
   "metadata": {},
   "source": [
    "# Q3. In a simple match of a string, which looks only for one match and does not do any replacement, is the use of a nontagged group likely to make any practical difference?"
   ]
  },
  {
   "cell_type": "markdown",
   "id": "119ebd37",
   "metadata": {},
   "source": [
    "Ans. In this instance, the Non-Tagged Group will have no impact."
   ]
  },
  {
   "cell_type": "code",
   "execution_count": 4,
   "id": "62d9d56b",
   "metadata": {},
   "outputs": [
    {
     "name": "stdout",
     "output_type": "stream",
     "text": [
      "Phone number found: 234-567-8901\n",
      "Phone number found: 234-567-8901\n"
     ]
    }
   ],
   "source": [
    "import re\n",
    "phoneNumRegex = re.compile(r'\\d\\d\\d-\\d\\d\\d-\\d\\d\\d\\d')\n",
    "num = phoneNumRegex.search('My number is 234-567-8901.')\n",
    "print(f'Phone number found: {num.group()}') # Non Tagged group\n",
    "print(f'Phone number found: {num.group(0)}') # Tagged Group"
   ]
  },
  {
   "cell_type": "markdown",
   "id": "d9f01b73",
   "metadata": {},
   "source": [
    "# Q4. Describe a scenario in which using a nontagged category would have a significant impact on the program's outcomes."
   ]
  },
  {
   "cell_type": "markdown",
   "id": "33c00ee9",
   "metadata": {},
   "source": [
    "Ans. In the following Code Snippet. There is no tag or capture for decimal. It will be useful in situations where the value separator in a string is irrelevant and only the values need to be captured."
   ]
  },
  {
   "cell_type": "code",
   "execution_count": 8,
   "id": "897a242d",
   "metadata": {},
   "outputs": [
    {
     "data": {
      "text/plain": [
       "('1354', '6')"
      ]
     },
     "execution_count": 8,
     "metadata": {},
     "output_type": "execute_result"
    }
   ],
   "source": [
    "import re\n",
    "text1='135456'\n",
    "text2='135.356'\n",
    "pattern=r'(\\d+)(?:.)(\\d+)'\n",
    "regobj=re.compile(pattern)\n",
    "matobj=regobj.search(text1)\n",
    "matobj.groups()"
   ]
  },
  {
   "cell_type": "code",
   "execution_count": 10,
   "id": "d8b5c792",
   "metadata": {},
   "outputs": [
    {
     "data": {
      "text/plain": [
       "('135', '356')"
      ]
     },
     "execution_count": 10,
     "metadata": {},
     "output_type": "execute_result"
    }
   ],
   "source": [
    "matobj=regobj.search(text2)\n",
    "matobj.groups()"
   ]
  },
  {
   "cell_type": "markdown",
   "id": "1ba04aa8",
   "metadata": {},
   "source": [
    "# Q5. Unlike a normal regex pattern, a look-ahead condition does not consume the characters it examines. Describe a situation in which this could make a difference in the results of your programme."
   ]
  },
  {
   "cell_type": "markdown",
   "id": "eea98fcb",
   "metadata": {},
   "source": [
    "Ans. Positive look ahead makes a difference when counting the number of multiple lines or multiple sentences in a string; without it, we would not obtain the correct count of lines or sentences."
   ]
  },
  {
   "cell_type": "markdown",
   "id": "519c3f74",
   "metadata": {},
   "source": [
    "# Q6. In standard expressions, what is the difference between positive look-ahead and negative look-ahead?"
   ]
  },
  {
   "cell_type": "markdown",
   "id": "73ea8f3a",
   "metadata": {},
   "source": [
    "Ans.  Positive Lookahead allows to add a condition for what follows. Negative Lookahead is similar, but it looks behind. That is, it allows to match a pattern only if there’s something before it."
   ]
  },
  {
   "cell_type": "markdown",
   "id": "a7eebadd",
   "metadata": {},
   "source": [
    "# Q7. What is the benefit of referring to groups by name rather than by number in a standard expression?"
   ]
  },
  {
   "cell_type": "markdown",
   "id": "0cc351f0",
   "metadata": {},
   "source": [
    "Ans. Referring to groups by name rather than by number in a standard expression helps to keep the code clear and easy to understand."
   ]
  },
  {
   "cell_type": "markdown",
   "id": "f48d8c05",
   "metadata": {},
   "source": [
    "# Q8. Can you identify repeated items within a target string using named groups, as in \"The cow jumped over the moon\"?"
   ]
  },
  {
   "cell_type": "code",
   "execution_count": 17,
   "id": "6b7a1e24",
   "metadata": {},
   "outputs": [
    {
     "data": {
      "text/plain": [
       "['over']"
      ]
     },
     "execution_count": 17,
     "metadata": {},
     "output_type": "execute_result"
    }
   ],
   "source": [
    "import re\n",
    "text = \"The cow jumped over the moon\"\n",
    "regobj=re.compile(r'(?P<w1>over)',re.I)\n",
    "regobj.findall(text)"
   ]
  },
  {
   "cell_type": "markdown",
   "id": "478131e4",
   "metadata": {},
   "source": [
    "# Q9. When parsing a string, what is at least one thing that the Scanner interface does for you that the re.findall feature does not?"
   ]
  },
  {
   "cell_type": "markdown",
   "id": "c202ecca",
   "metadata": {},
   "source": [
    "Ans. The re.findall() module is used to find all instances of a given pattern. In contrast, re.search() will only return the first matching instance. re.findall() will traverse each line of the file and return all non-overlapping pattern matches in a single operation."
   ]
  },
  {
   "cell_type": "markdown",
   "id": "4726cb6a",
   "metadata": {},
   "source": [
    "# Q10. Does a scanner object have to be named scanner?"
   ]
  },
  {
   "cell_type": "markdown",
   "id": "566391f6",
   "metadata": {},
   "source": [
    " Ans. Yes, It may have any name."
   ]
  },
  {
   "cell_type": "code",
   "execution_count": null,
   "id": "c206c6ad",
   "metadata": {},
   "outputs": [],
   "source": []
  }
 ],
 "metadata": {
  "kernelspec": {
   "display_name": "Python 3 (ipykernel)",
   "language": "python",
   "name": "python3"
  },
  "language_info": {
   "codemirror_mode": {
    "name": "ipython",
    "version": 3
   },
   "file_extension": ".py",
   "mimetype": "text/x-python",
   "name": "python",
   "nbconvert_exporter": "python",
   "pygments_lexer": "ipython3",
   "version": "3.9.12"
  }
 },
 "nbformat": 4,
 "nbformat_minor": 5
}
