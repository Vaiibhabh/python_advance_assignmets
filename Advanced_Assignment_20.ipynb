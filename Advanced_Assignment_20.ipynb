{
 "cells": [
  {
   "cell_type": "markdown",
   "id": "261054c3",
   "metadata": {},
   "source": [
    "# 1. Compare and contrast the float and Decimal classes' benefits and drawbacks."
   ]
  },
  {
   "cell_type": "markdown",
   "id": "49d9dda3",
   "metadata": {},
   "source": [
    "Ans. In Python, both the float and decimal types store numerical values.\n",
    "\n",
    "Utilize floats when convenience and speed are essential. A float provides an approximation of the declared number.\n",
    "\n",
    "Use decimals when accuracy is essential. Floats are typically more precise than decimals, though decimals can experience precision issues of their own. In Python 3, the performance difference between float and decimal is not excessive, and in my experience, the precision advantages of a decimal outweigh the performance advantages of a float."
   ]
  },
  {
   "cell_type": "markdown",
   "id": "89811bb4",
   "metadata": {},
   "source": [
    "# 2. Decimal('1.200') and Decimal('1.2') are two objects to consider. In what sense are these the same object? Are these just two ways of representing the exact same value, or do they correspond to different internal states?"
   ]
  },
  {
   "cell_type": "markdown",
   "id": "229d60dd",
   "metadata": {},
   "source": [
    "Ans.  Both values are same but internal representation at storage Is different. Precsion differs, Decimal('1.200') gives internally 1.200 and Decimal('1.2') gives 1.2."
   ]
  },
  {
   "cell_type": "markdown",
   "id": "6d17223a",
   "metadata": {},
   "source": [
    "# 3. What happens if the equality of Decimal('1.200') and Decimal('1.2') is checked?"
   ]
  },
  {
   "cell_type": "markdown",
   "id": "18b2d45d",
   "metadata": {},
   "source": [
    "Ans. Both values are checked to be equal , they only differ in precision."
   ]
  },
  {
   "cell_type": "markdown",
   "id": "2e104b7a",
   "metadata": {},
   "source": [
    "# 4. Why is it preferable to start a Decimal object with a string rather than a floating-point value?"
   ]
  },
  {
   "cell_type": "markdown",
   "id": "69b5784c",
   "metadata": {},
   "source": [
    "Ans. The value is converted from Floating-point to Decimal format. Float values can be stored in decimal with absolute precision. However, when a float value is passed as a Decimal object, it must first be converted from a floating-point value that may contain rounding errors.\n",
    "\n",
    "Therefore, it is recommended to begin a Decimal object with a string."
   ]
  },
  {
   "cell_type": "markdown",
   "id": "cfa99685",
   "metadata": {},
   "source": [
    "# 5. In an arithmetic phrase, how simple is it to combine Decimal objects with integers?"
   ]
  },
  {
   "cell_type": "raw",
   "id": "97b2b7ca",
   "metadata": {},
   "source": [
    "Ans. We can do it with use of Decimal()."
   ]
  },
  {
   "cell_type": "markdown",
   "id": "463180cf",
   "metadata": {},
   "source": [
    "# 6. Can Decimal objects and floating-point values be combined easily?"
   ]
  },
  {
   "cell_type": "markdown",
   "id": "685e9afa",
   "metadata": {},
   "source": [
    "Ans. Errors result from arithmetic operations such as adding, subtracting, or multiplying a Decimal object by a floating-point value.\n",
    "\n",
    "In order to perform these operations, the floating-point value must be converted to a Decimal."
   ]
  },
  {
   "cell_type": "markdown",
   "id": "9ec3fb53",
   "metadata": {},
   "source": [
    "# 7. Using the Fraction class but not the Decimal class, give an example of a quantity that can be expressed with absolute precision."
   ]
  },
  {
   "cell_type": "markdown",
   "id": "670eb3f2",
   "metadata": {},
   "source": [
    "Ans.  Value of 0.5 will be represented as ½."
   ]
  },
  {
   "cell_type": "markdown",
   "id": "4ecf9aa1",
   "metadata": {},
   "source": [
    "# 8. Describe a quantity that can be accurately expressed by the Decimal or Fraction classes but not by a floating-point value."
   ]
  },
  {
   "cell_type": "markdown",
   "id": "af2f72bf",
   "metadata": {},
   "source": []
  },
  {
   "cell_type": "markdown",
   "id": "fcfc5baf",
   "metadata": {},
   "source": [
    "# Q9.Consider the following two fraction objects: Fraction(1, 2) and Fraction(1, 2). (5, 10). Is the internal state of these two objects the same? Why do you think that is?"
   ]
  },
  {
   "cell_type": "code",
   "execution_count": null,
   "id": "c52fce94",
   "metadata": {},
   "outputs": [],
   "source": [
    "Ans. Both will be reduced to 1/2"
   ]
  },
  {
   "cell_type": "markdown",
   "id": "a21943a8",
   "metadata": {},
   "source": [
    "# Q10. How do the Fraction class and the integer type (int) relate to each other? Containment or inheritance?"
   ]
  },
  {
   "cell_type": "markdown",
   "id": "4a24f201",
   "metadata": {},
   "source": [
    "Ans. The fraction class and the integer data type (int) share a container. It consists of two ints, the numerator and the denominator."
   ]
  }
 ],
 "metadata": {
  "kernelspec": {
   "display_name": "Python 3 (ipykernel)",
   "language": "python",
   "name": "python3"
  },
  "language_info": {
   "codemirror_mode": {
    "name": "ipython",
    "version": 3
   },
   "file_extension": ".py",
   "mimetype": "text/x-python",
   "name": "python",
   "nbconvert_exporter": "python",
   "pygments_lexer": "ipython3",
   "version": "3.9.12"
  }
 },
 "nbformat": 4,
 "nbformat_minor": 5
}
