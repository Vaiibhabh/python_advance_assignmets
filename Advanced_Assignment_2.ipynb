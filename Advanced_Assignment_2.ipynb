{
 "cells": [
  {
   "cell_type": "markdown",
   "id": "c9a617e7",
   "metadata": {},
   "source": [
    "# Q1. What is the relationship between classes and modules?"
   ]
  },
  {
   "cell_type": "markdown",
   "id": "3ec863ce",
   "metadata": {},
   "source": [
    "Ans. A Python class is similar to a plan/blueprint/template for creating new objects. An object is any entity that you wish to manipulate or modify while working with code. Every time a class object is instantiated, which occurs when a variable is declared, a brand-new object is created.\n",
    "\n",
    "\n",
    "In contrast, Python Modules are simply .py files that contain Python code that can be imported into another Python programme. Simply put, a module is the same as a code library or a file containing the functions/Classes you wish to include in your application."
   ]
  },
  {
   "cell_type": "markdown",
   "id": "1728d10b",
   "metadata": {},
   "source": [
    "# Q2. How do you make instances and classes?"
   ]
  },
  {
   "cell_type": "markdown",
   "id": "31909716",
   "metadata": {},
   "source": [
    "Ans. For creating an instance of a class. We call a class by its name and pass its __init__ method's accepted arguments."
   ]
  },
  {
   "cell_type": "code",
   "execution_count": 9,
   "id": "f82392aa",
   "metadata": {},
   "outputs": [],
   "source": [
    "class Total_sum:\n",
    "    def __init__(self, a,b):\n",
    "        self.a=a\n",
    "        self.b=b\n",
    "    def add(self):\n",
    "        return self.a+self.b\n",
    "\n",
    "sumation_1= Total_sum('23','4')\n",
    "#Here sumation_1 is an instance of class Total_sum with attriubutes 23,and 4.\n",
    "#Here Total_sum is a class created with class keyword with arguments a and b."
   ]
  },
  {
   "cell_type": "markdown",
   "id": "7d29aba4",
   "metadata": {},
   "source": [
    "# Q3. Where and how should be class attributes created?"
   ]
  },
  {
   "cell_type": "markdown",
   "id": "27a7ba1d",
   "metadata": {},
   "source": [
    "Ans. Class characteristics or Class rank Attributes are inherent to the class. These attributes will be shared among all class instances. Therefore, these attributes are typically created and defined at the class's top-level definition, outside of all methods."
   ]
  },
  {
   "cell_type": "markdown",
   "id": "51698266",
   "metadata": {},
   "source": [
    "Example: In the below code we are defining a class attribute called no_of_wheels which will be shared by all the instances of the class Car"
   ]
  },
  {
   "cell_type": "code",
   "execution_count": null,
   "id": "7874d8df",
   "metadata": {},
   "outputs": [],
   "source": [
    "class Car: \n",
    "    no_of_wheels = 4; # this is a class attribute \n",
    "    def __init__(self,color,price,engine): \n",
    "        self.color = color # All this are instance attributes \n",
    "        self.price = price \n",
    "        self.engine = engine"
   ]
  },
  {
   "cell_type": "markdown",
   "id": "e7906517",
   "metadata": {},
   "source": [
    "# Q4. Where and how are instance attributes created?"
   ]
  },
  {
   "cell_type": "markdown",
   "id": "68be7437",
   "metadata": {},
   "source": [
    "Ans. Attributes of instances are passed to the class when a class object is created. In contrast to class attributes, instance attributes are not shared among all instances of a class. Instead, each object keeps a copy of instance attributes at the object level. In contrast, in the case of class attributes, every instance of a class refers to a single copy. Typically, instance attributes are defined within a class's __init__ method."
   ]
  },
  {
   "cell_type": "markdown",
   "id": "9eaf86f0",
   "metadata": {},
   "source": [
    "Example: In the below sample code we are creating a class Car with instance varaibles color, price, engine, which will be provided when an instance of class Car is created."
   ]
  },
  {
   "cell_type": "code",
   "execution_count": 10,
   "id": "291d824f",
   "metadata": {},
   "outputs": [],
   "source": [
    "class Car: \n",
    "    def __init__(self,color,price,engine): \n",
    "        self.color = color # All this are instance attributes \n",
    "        self.price = price \n",
    "        self.engine = engine\n",
    "\n",
    "# nexon_ev, safari are both the instances of class Car with different instance variables\n",
    "nexon_ev = Car('Indigo Blue', 1400000, 'electric')\n",
    "safari = Car('Pearl White',2100000, 'petrol')"
   ]
  },
  {
   "cell_type": "markdown",
   "id": "9cdcae92",
   "metadata": {},
   "source": [
    "# Q5. What does the term \"self\" in a Python class mean?"
   ]
  },
  {
   "cell_type": "markdown",
   "id": "21b53025",
   "metadata": {},
   "source": [
    "Ans. __self__ represents a class instance (it represents the object itself). Python's \"self\" keyword enables access to the class's attributes and methods from within the class. It binds the attributes to the arguments provided."
   ]
  },
  {
   "cell_type": "code",
   "execution_count": 11,
   "id": "1f1878c9",
   "metadata": {},
   "outputs": [
    {
     "name": "stdout",
     "output_type": "stream",
     "text": [
      "John(36)\n"
     ]
    }
   ],
   "source": [
    "class Person:\n",
    "  def __init__(self, name, age):# All this are instance attributes \n",
    "    self.name = name\n",
    "    self.age = age\n",
    "\n",
    "  def __str__(self):\n",
    "    return f\"{self.name}({self.age})\"\n",
    "\n",
    "p1 = Person(\"John\", 36)\n",
    "print (p1)"
   ]
  },
  {
   "cell_type": "markdown",
   "id": "545bd250",
   "metadata": {},
   "source": [
    "# Q6. How does a Python class handle operator overloading?"
   ]
  },
  {
   "cell_type": "markdown",
   "id": "1a897f90",
   "metadata": {},
   "source": [
    "Ans. Python Classes manage operator overloading through the use of special methods known as __Magic methods__. These unique procedures typically begin and end with __ (double underscore)"
   ]
  },
  {
   "cell_type": "markdown",
   "id": "255c7aec",
   "metadata": {},
   "source": [
    "Example: Magic methods for basic arithmetic operators are:\n",
    "\n",
    "+ -> __add__()\n",
    "- -> __sub__()\n",
    "* -> __mul__()\n",
    "/ -> __div__()"
   ]
  },
  {
   "cell_type": "code",
   "execution_count": 12,
   "id": "64d0da50",
   "metadata": {},
   "outputs": [
    {
     "name": "stdout",
     "output_type": "stream",
     "text": [
      "The total number of pages in 2 comics is 300\n"
     ]
    }
   ],
   "source": [
    "class Comics:\n",
    "    def __init__(self,pages):\n",
    "        self.pages = pages\n",
    "    def __add__(self,other):\n",
    "        return self.pages + other.pages\n",
    "b1 = Comics(100)\n",
    "b2 = Comics(200)\n",
    "print(f'The total number of pages in 2 comics is {b1+b2}')"
   ]
  },
  {
   "cell_type": "markdown",
   "id": "bab1d491",
   "metadata": {},
   "source": [
    "# Q7. When do you consider allowing operator overloading of your classes?"
   ]
  },
  {
   "cell_type": "markdown",
   "id": "79298e69",
   "metadata": {},
   "source": [
    "Ans. When we want the same operator to have different meanings depending on the context, we use operator overloading."
   ]
  },
  {
   "cell_type": "markdown",
   "id": "1be35e66",
   "metadata": {},
   "source": [
    "# Q8. What is the most popular form of operator overloading?"
   ]
  },
  {
   "cell_type": "markdown",
   "id": "98f216f0",
   "metadata": {},
   "source": [
    "Ans. : The most popular form of operator overloading in python is by special methods called __Magic methods__. Which usually beign and end with double underscore __<method name>__"
   ]
  },
  {
   "cell_type": "markdown",
   "id": "521acb2a",
   "metadata": {},
   "source": [
    "# Q9. What are the two most important concepts to grasp in order to comprehend Python OOP code?"
   ]
  },
  {
   "cell_type": "markdown",
   "id": "f4b30675",
   "metadata": {},
   "source": [
    "Ans. Classes and objects are the two concepts necessary to comprehend Python OOP code, as objects are formally entities that represent instances of a general abstract concept called a class.\n",
    "\n",
    "In addition to classes and objects, the most important concepts to understand are:\n",
    "\n",
    "Inheritence,\n",
    "Abstraction,\n",
    "Polymorphism,\n",
    "Encapsulation"
   ]
  }
 ],
 "metadata": {
  "kernelspec": {
   "display_name": "Python 3 (ipykernel)",
   "language": "python",
   "name": "python3"
  },
  "language_info": {
   "codemirror_mode": {
    "name": "ipython",
    "version": 3
   },
   "file_extension": ".py",
   "mimetype": "text/x-python",
   "name": "python",
   "nbconvert_exporter": "python",
   "pygments_lexer": "ipython3",
   "version": "3.9.12"
  }
 },
 "nbformat": 4,
 "nbformat_minor": 5
}
